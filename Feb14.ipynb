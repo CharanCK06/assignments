{
 "cells": [
  {
   "cell_type": "raw",
   "id": "ed31e759-3e5b-405b-9a54-ddb03ca00171",
   "metadata": {},
   "source": [
    "#1\n",
    "Multithreading is a concept wich allows multiple threads to run concurrently within a single process\n",
    "\n",
    "- 'threading' is the module used to haandle threads in python"
   ]
  },
  {
   "cell_type": "raw",
   "id": "abcfef41-03e3-4f59-92f9-5999b24e44f8",
   "metadata": {},
   "source": [
    "#2\n",
    "threading module is used to handle threads in python\n",
    "i. activeCount() - This function returns the number of Thread objects that are currently active\n",
    "ii.currentThread() - This function returns a reference to the current Thread object.\n",
    "iii.enumerate() - This function returns a list of all Thread objects that are currently active\n"
   ]
  },
  {
   "cell_type": "raw",
   "id": "8bb4d8c3-629b-4142-9245-ca527297be05",
   "metadata": {},
   "source": [
    "#3\n",
    "1.run() - This function represents the entry point for the thread.\n",
    "2.start()- This function starts the thread's activity.\n",
    "3.join()-This function blocks the calling thread until the thread whose join() method is called is terminated.\n",
    "4.isAlive() - This function returns a boolean value indicating whether the thread is currently alive or not. "
   ]
  },
  {
   "cell_type": "code",
   "execution_count": 1,
   "id": "54a06ff2-49ae-41b3-a625-35da10940a02",
   "metadata": {},
   "outputs": [
    {
     "name": "stdout",
     "output_type": "stream",
     "text": [
      "Square of 1 is 1\n",
      "Square of 2 is 4\n",
      "Square of 3 is 9\n",
      "Square of 4 is 16\n",
      "Square of 5 is 25\n",
      "Square of 6 is 36\n",
      "Square of 7 is 49\n",
      "Square of 8 is 64\n",
      "Square of 9 is 81\n",
      "Square of 10 is 100\n",
      "Cube of 1 is 1\n",
      "Cube of 2 is 8\n",
      "Cube of 3 is 27\n",
      "Cube of 4 is 64\n",
      "Cube of 5 is 125\n",
      "Cube of 6 is 216\n",
      "Cube of 7 is 343\n",
      "Cube of 8 is 512\n",
      "Cube of 9 is 729\n",
      "Cube of 10 is 1000\n",
      "Finished\n"
     ]
    }
   ],
   "source": [
    "#4\n",
    "import threading\n",
    "\n",
    "def print_squares():\n",
    "    for i in range(1, 11):\n",
    "        print(f\"Square of {i} is {i**2}\")\n",
    "\n",
    "def print_cubes():\n",
    "    for i in range(1, 11):\n",
    "        print(f\"Cube of {i} is {i**3}\")\n",
    "\n",
    "t1 = threading.Thread(target=print_squares)\n",
    "t2 = threading.Thread(target=print_cubes)\n",
    "\n",
    "t1.start()\n",
    "t2.start()\n",
    "\n",
    "t1.join()\n",
    "t2.join()\n",
    "\n",
    "print(\"Finished\")\n"
   ]
  },
  {
   "cell_type": "raw",
   "id": "137748da-a856-45c0-9f4e-7f84e651e5a9",
   "metadata": {},
   "source": [
    "#5\n",
    "Advantages:\n",
    "improved performance\n",
    "better resource utilization\n",
    "increased responsiveness\n",
    "\n",
    "Disadvantages:\n",
    "increased complexity\n",
    "increased memory usage\n",
    "difficulty in debugging\n"
   ]
  },
  {
   "cell_type": "raw",
   "id": "10c58458-1765-4719-ac00-4c3b29399fe1",
   "metadata": {},
   "source": [
    "#6\n",
    "- A deadlock is a situation where two or more threads are blocked, waiting for each other to release resources that they need to proceed.\n",
    "- A race condition is a situation where the behavior of a program depends on the timing and order of events. "
   ]
  }
 ],
 "metadata": {
  "kernelspec": {
   "display_name": "Python 3 (ipykernel)",
   "language": "python",
   "name": "python3"
  },
  "language_info": {
   "codemirror_mode": {
    "name": "ipython",
    "version": 3
   },
   "file_extension": ".py",
   "mimetype": "text/x-python",
   "name": "python",
   "nbconvert_exporter": "python",
   "pygments_lexer": "ipython3",
   "version": "3.10.8"
  }
 },
 "nbformat": 4,
 "nbformat_minor": 5
}
