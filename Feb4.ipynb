{
 "cells": [
  {
   "cell_type": "code",
   "execution_count": 19,
   "id": "2d14b9c8-dfde-4122-9bfb-d00d971afdb7",
   "metadata": {},
   "outputs": [
    {
     "data": {
      "text/plain": [
       "[('Virat Kohli', 24936),\n",
       " ('Jack Kallis', 25534),\n",
       " ('Ricky Ponting', 27483),\n",
       " ('Sachin Tendulkar', 34357)]"
      ]
     },
     "execution_count": 19,
     "metadata": {},
     "output_type": "execute_result"
    }
   ],
   "source": [
    "#1 \n",
    "l1 = [('Sachin Tendulkar', 34357), ('Ricky Ponting', 27483), ('Jack Kallis', 25534), ('Virat Kohli', 24936)]\n",
    "l1.sort(key = lambda x:x[1])\n",
    "l1"
   ]
  },
  {
   "cell_type": "code",
   "execution_count": 20,
   "id": "4593f3bc-4fb8-47d9-aaa9-fa9773465a5d",
   "metadata": {},
   "outputs": [
    {
     "data": {
      "text/plain": [
       "[1, 4, 9, 16, 25, 36, 49, 64, 81, 100]"
      ]
     },
     "execution_count": 20,
     "metadata": {},
     "output_type": "execute_result"
    }
   ],
   "source": [
    "#2\n",
    "l2 = [1,2,3,4,5,6,7,8,9,10]\n",
    "list(map(lambda x: x**2,l2))"
   ]
  },
  {
   "cell_type": "code",
   "execution_count": 14,
   "id": "37ba1cc1-63cf-4cd1-a867-afbdf1e1a0e0",
   "metadata": {},
   "outputs": [
    {
     "data": {
      "text/plain": [
       "('1', '2', '3', '4', '5', '6', '7', '8', '9', '10')"
      ]
     },
     "execution_count": 14,
     "metadata": {},
     "output_type": "execute_result"
    }
   ],
   "source": [
    "#3\n",
    "l3 = [1,2,3,4,5,6,7,8,9,10]\n",
    "tuple(map(lambda x: str(x),l3))"
   ]
  },
  {
   "cell_type": "code",
   "execution_count": 12,
   "id": "4687b412-0a35-44c6-a8a9-78585d7c03b5",
   "metadata": {},
   "outputs": [
    {
     "data": {
      "text/plain": [
       "15511210043330985984000000"
      ]
     },
     "execution_count": 12,
     "metadata": {},
     "output_type": "execute_result"
    }
   ],
   "source": [
    "#4\n",
    "from functools import reduce\n",
    "l4 = [1,2,3,4,5,6,7,8,9,10,11,12,13,14,15,16,17,18,19,20,21,22,23,24,25]\n",
    "reduce(lambda x,y: x*y,l4)"
   ]
  },
  {
   "cell_type": "code",
   "execution_count": 13,
   "id": "a8635364-2f72-4180-9fbb-c036076d7499",
   "metadata": {},
   "outputs": [
    {
     "name": "stdout",
     "output_type": "stream",
     "text": [
      "[2, 6, 60, 90, 120, 46]\n",
      "[3, 6, 9, 27, 60, 90, 120]\n"
     ]
    }
   ],
   "source": [
    "#5\n",
    "l5 = [2,3,6,9,27,60,90,120,55,46]\n",
    "div_2 = list(filter(lambda x: x%2==0,l5))\n",
    "print(div_2)\n",
    "div_3 = list(filter(lambda x: x%3==0,l5))\n",
    "print(div_3)"
   ]
  },
  {
   "cell_type": "code",
   "execution_count": 16,
   "id": "0a687cf4-4771-4321-8df8-ce0ba759130e",
   "metadata": {},
   "outputs": [
    {
     "data": {
      "text/plain": [
       "['php', 'aba', 'radar', 'level']"
      ]
     },
     "execution_count": 16,
     "metadata": {},
     "output_type": "execute_result"
    }
   ],
   "source": [
    "#6\n",
    "l6 = ['python','php','aba','radar','level']\n",
    "list(filter(lambda x: x==x[::-1] , l6))"
   ]
  }
 ],
 "metadata": {
  "kernelspec": {
   "display_name": "Python 3 (ipykernel)",
   "language": "python",
   "name": "python3"
  },
  "language_info": {
   "codemirror_mode": {
    "name": "ipython",
    "version": 3
   },
   "file_extension": ".py",
   "mimetype": "text/x-python",
   "name": "python",
   "nbconvert_exporter": "python",
   "pygments_lexer": "ipython3",
   "version": "3.10.8"
  }
 },
 "nbformat": 4,
 "nbformat_minor": 5
}
