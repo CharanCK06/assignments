{
 "cells": [
  {
   "cell_type": "code",
   "execution_count": null,
   "id": "2c5c5590-4f11-4014-82fa-8a3d0ce5be8e",
   "metadata": {},
   "outputs": [],
   "source": [
    "#1\n",
    "'''\n",
    "The main difference between a t-test and a z-test is the type of probability distribution used to calculate the test statistic. \n",
    "A z-test assumes that the population variance is known or the sample size is large enough to approximate the population variance with \n",
    "the sample variance. On the other hand, a t-test assumes that the population variance is unknown and the sample size is small.\n",
    "'''"
   ]
  },
  {
   "cell_type": "code",
   "execution_count": null,
   "id": "008bab63-d4d5-4445-84ad-7f25c6517264",
   "metadata": {},
   "outputs": [],
   "source": [
    "#2\n",
    "'''\n",
    "A one-tailed test (also known as a directional test) is a hypothesis test where the null hypothesis is rejected only if the sample data \n",
    "falls in one tail of the probability distribution. In other words, the hypothesis test only looks for an effect in one direction.\n",
    "\n",
    "A two-tailed test (also known as a non-directional test) is a hypothesis test where the null hypothesis is rejected if the sample data \n",
    "falls in either tail of the probability distribution. In other words, the hypothesis test looks for an effect in either direction. \n",
    "\n",
    "the main difference between one-tailed and two-tailed tests is the directionality of the hypothesis being tested and the location of the\n",
    "critical region on the probability distribution.'''"
   ]
  },
  {
   "cell_type": "code",
   "execution_count": null,
   "id": "399edd60-2c88-494d-9711-7220a9cf3ab6",
   "metadata": {},
   "outputs": [],
   "source": [
    "#3\n",
    "'''\n",
    "Type 1 and Type 2 errors are both possible outcomes of a hypothesis test and refer to the errors that can be made when drawing conclusions\n",
    "about the population based on sample data.\n",
    "\n",
    "Type 1 error occurs when the null hypothesis is rejected even though it is true. This is also called a false positive error. \n",
    "\n",
    "Type 2 error occurs when the null hypothesis is not rejected even though it is false. This is also called a false negative error. \n",
    "\n",
    "The probabilities of these errors can be controlled by setting the alpha level and increasing the sample size.\n",
    "'''"
   ]
  },
  {
   "cell_type": "code",
   "execution_count": null,
   "id": "d0268355-f7fe-4e89-b684-b5aa630cb80c",
   "metadata": {},
   "outputs": [],
   "source": [
    "#4\n",
    "'''\n",
    "\n",
    "Bayes's theorem is a statistical tool used to calculate the probability of an event based on prior knowledge of related conditions or factors.\n",
    "\n",
    "P(A|B) = P(B|A) * P(A) / P(B)\n",
    "\n",
    "where:\n",
    "\n",
    "P(A|B) is the probability of A given that B has occurred\n",
    "P(B|A) is the probability of B given that A has occurred\n",
    "P(A) is the prior probability of A\n",
    "P(B) is the prior probability of B\n",
    "eg:\n",
    "Let us consider a room for rent. The price of the room depends upon its location its size its facilities. So probability of price depending on the\n",
    "factors is calculated using Bayes Theorem.\n",
    "'''"
   ]
  },
  {
   "cell_type": "code",
   "execution_count": null,
   "id": "ef23affa-3422-49ed-bb9a-f4350bca0c86",
   "metadata": {},
   "outputs": [],
   "source": [
    "#5\n",
    "'''\n",
    "A confidence interval is a range of values that is likely to contain the true value of a population parameter, such as a population mean or proportion.\n",
    "It is calculated from a sample of data and is used to estimate the population parameter with a certain level of confidence.\n",
    "\n",
    "CI = X ± Zα/2 * (σ/√n)\n",
    "\n",
    "where:\n",
    "\n",
    "CI is the confidence interval\n",
    "X is the sample mean\n",
    "Zα/2 is the critical value of the standard normal distribution corresponding to the desired level of confidence)\n",
    "σ is the population standard deviation (if known) or the sample standard deviation \n",
    "n is the sample size\n",
    "\n",
    "'''"
   ]
  },
  {
   "cell_type": "code",
   "execution_count": null,
   "id": "e4f6ed10-8bbe-4b1e-a3ea-6e4c077bdbb8",
   "metadata": {},
   "outputs": [],
   "source": [
    "#6\n",
    "'''\n",
    "ayes's theorem is a statistical tool used to calculate the probability of an event based on prior knowledge of related conditions or factors.\n",
    "\n",
    "P(A|B) = P(B|A) * P(A) / P(B)\n",
    "\n",
    "where:\n",
    "\n",
    "P(A|B) is the probability of A given that B has occurred\n",
    "P(B|A) is the probability of B given that A has occurred\n",
    "P(A) is the prior probability of A\n",
    "P(B) is the prior probability of B\n",
    "eg:\n",
    "Let us consider a room for rent. The price of the room depends upon its location its size its facilities. So probability of price depending on the\n",
    "factors is calculated using Bayes Theorem.\n",
    "'''"
   ]
  },
  {
   "cell_type": "code",
   "execution_count": null,
   "id": "51b70d44-2cf7-4042-8af1-aa0e40edc6bf",
   "metadata": {},
   "outputs": [],
   "source": [
    "#7\n",
    "'''\n",
    "Since the sample size (n) is not given, we cannot calculate the standard error and therefore cannot compute the confidence interval.\n",
    "We need the sample size to be able to calculate the standard error.\n",
    "'',"
   ]
  },
  {
   "cell_type": "code",
   "execution_count": null,
   "id": "d05234b7-4635-433d-95ef-b01371992f4e",
   "metadata": {},
   "outputs": [],
   "source": [
    "#8\n",
    "'''\n",
    "The margin of error in a confidence interval is the range of values above and below the point estimate that is likely to contain \n",
    "the true population parameter. It indicates the amount of uncertainty or error associated with the sample estimate.\n",
    "\n",
    "Sample size plays an important role in determining the margin of error. As the sample size increases, the margin of error decreases, \n",
    "and the confidence interval becomes narrower. \n",
    "\n",
    "For example, suppose a poll is conducted to estimate the proportion of voters who support a particular candidate in a state.\n",
    "If a random sample of 100 voters is taken, and the estimated proportion of supporters is 0.60, with a margin of error of 0.05.\n",
    "This means that we can be 95% confident that the true proportion of supporters in the population falls between 0.55 and 0.65.\n",
    "\n",
    "If we increase the sample size to 1000, the margin of error would decrease, and the confidence interval would become narrower. \n",
    "For instance, the estimated proportion of supporters could be 0.60 with a margin of error of 0.015. This means that we can be 95% confident \n",
    "that the true proportion of supporters in the population falls between 0.585 and 0.615. Thus, the larger the sample size, the smaller the \n",
    "margin of error and the more precise our estimate of the population parameter.\n",
    "'''"
   ]
  },
  {
   "cell_type": "code",
   "execution_count": null,
   "id": "ef6ad324-a0c1-4f2c-877b-8578829cf1ea",
   "metadata": {},
   "outputs": [],
   "source": [
    "#9\n",
    "'''\n",
    "z = (75 - 70) / 5 = 1\n",
    "This means that the data point of 75 is 1 standard deviation above the population mean of 70.\n",
    "The positive sign of the z-score indicates that the data point is above the mean.\n",
    "\n",
    "z-score of 1 corresponds to an area of 0.8413 or 84.13% below the data point and an area of 0.1587 or 15.87% above \n",
    "the data point in a standard normal distribution.\n",
    "'''"
   ]
  },
  {
   "cell_type": "code",
   "execution_count": null,
   "id": "e2765a35-b560-4f9b-b5f8-1a794f165907",
   "metadata": {},
   "outputs": [],
   "source": [
    "#10\n",
    "'''\n",
    "Null hypothesis: The drug is not significantly effective, and the population mean weight loss is less than or equal to 0 pounds.\n",
    "\n",
    "Alternative hypothesis: The drug is significantly effective, and the population mean weight loss is greater than 0 pounds.\n",
    "\n",
    "t = (6 - 0) / (2.5 / sqrt(50)) = 15.49\n",
    "\n",
    "degree of freedom = 49\n",
    "\n",
    "t(49,0.05) = 1.677\n",
    "\n",
    "the calculated t-value of 15.49 is greater than the critical t-value of 1.677\n",
    "\n",
    "null hypothesis is rejected.\n",
    "'''"
   ]
  },
  {
   "cell_type": "code",
   "execution_count": null,
   "id": "c0e61a88-1cb5-4121-8a1d-93e6801d0083",
   "metadata": {},
   "outputs": [],
   "source": [
    "#11\n",
    "'''\n",
    "CI = p ± z*(sqrt(p*(1-p)/n))\n",
    "\n",
    "where:\n",
    "p = proportion of people who are satisfied with their job\n",
    "z = z-score for the desired confidence level (95%)\n",
    "n = sample size\n",
    "\n",
    "Substituting the given values:\n",
    "\n",
    "p = 0.65\n",
    "z = 1.96 (for a 95% confidence level)\n",
    "n = 500\n",
    "\n",
    "CI = 0.65 ± 1.96*(sqrt(0.65*(1-0.65)/500))\n",
    "CI = 0.65 ± 0.042\n",
    "\n",
    "The 95% confidence interval for the true proportion of people who are satisfied with their job is (0.608, 0.692). \n",
    "This means that we are 95% confident that the true proportion of people who are satisfied with their job falls within this interval.\n",
    "'''"
   ]
  },
  {
   "cell_type": "code",
   "execution_count": null,
   "id": "53bbcd6b-5796-43ce-aa9e-55335971e350",
   "metadata": {},
   "outputs": [],
   "source": [
    "#12\n",
    "'''\n",
    "Null Hypothesis: The mean score of sample A is equal to the mean score of sample B. \n",
    "\n",
    "Alternative Hypothesis: The mean score of sample A is not equal to the mean score of sample B. \n",
    "\n",
    "t = (85 - 82) / sqrt[(6²/50) + (5²/50)] = 2.25\n",
    "\n",
    "df = [(6²/50 + 5²/50)²] / [(6²/50)²/49 + (5²/50)²/49] = 91.73\n",
    "\n",
    "Using a t-distribution table, with 91 degrees of freedom and a significance level of 0.01, we find the critical t-value to be ±2.583.\n",
    "\n",
    "Since our calculated t-value of 2.25 is less than the critical t-value of 2.583, we fail to reject the null hypothesis.\n",
    "''"
   ]
  },
  {
   "cell_type": "code",
   "execution_count": null,
   "id": "3d629050-af4e-4a5f-ab28-2e6aac6b7b6d",
   "metadata": {},
   "outputs": [],
   "source": [
    "#13\n",
    "'''\n",
    "Confidence Interval = 65 ± (1.677) x (1.13) = (62.46, 67.54)\n",
    "'''"
   ]
  },
  {
   "cell_type": "code",
   "execution_count": null,
   "id": "b74d147b-e14c-4b0b-a84a-7a67ff0aad75",
   "metadata": {},
   "outputs": [],
   "source": [
    "#14\n",
    "'''\n",
    "Hey null hypothesis : sample mean = 0.25\n",
    "Alternate hypothesis : sample mean is not equal to 0.25\n",
    "t = (0.25 - 0) / (0.05 / √30) = 8.49\n",
    "Using a t-table ,the critical t-value for a two-tailed test with 29 degrees of freedom and a significance level of 0.1 to be ±1.699.\n",
    "Since our calculated t-value of 8.49 is greater than the critical t-value of ±1.699, we can reject the null hypothesis\n",
    "'''"
   ]
  }
 ],
 "metadata": {
  "kernelspec": {
   "display_name": "Python 3 (ipykernel)",
   "language": "python",
   "name": "python3"
  },
  "language_info": {
   "codemirror_mode": {
    "name": "ipython",
    "version": 3
   },
   "file_extension": ".py",
   "mimetype": "text/x-python",
   "name": "python",
   "nbconvert_exporter": "python",
   "pygments_lexer": "ipython3",
   "version": "3.10.8"
  }
 },
 "nbformat": 4,
 "nbformat_minor": 5
}
