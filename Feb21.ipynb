{
 "cells": [
  {
   "cell_type": "code",
   "execution_count": null,
   "id": "5627226b-d650-4872-ba9c-aeba948aa531",
   "metadata": {},
   "outputs": [],
   "source": [
    "#1\n",
    "'''\n",
    "Web scraping is the process of automatically extracting information or data from websites using software tools or algorithms.\n",
    "\n",
    "Purposes:\n",
    "-Data Extraction\n",
    "-Content Aggregation\n",
    "\n",
    "Areas:\n",
    "-E-commerce\n",
    "-Research\n",
    "-Financial Services\n",
    "\n",
    "'''"
   ]
  },
  {
   "cell_type": "code",
   "execution_count": null,
   "id": "fb671477-0b0e-4cea-9ed2-fe908862d31d",
   "metadata": {},
   "outputs": [],
   "source": [
    "#2\n",
    "'''\n",
    "Methods:\n",
    "-Web scraping software\n",
    "-Browser Extensions\n",
    "-APIs\n",
    "'''"
   ]
  },
  {
   "cell_type": "code",
   "execution_count": null,
   "id": "d2b715ee-39fb-4ed6-948a-722221ff71bc",
   "metadata": {},
   "outputs": [],
   "source": [
    "#3\n",
    "'''\n",
    "Beautiful Soup is a Python library that is used for web scraping purposes. It allows users to parse HTML and XML documents and extract data from them using Python code. Beautiful Soup is an open-source library that is widely used in the web scraping community due to its ease of use and flexibility.\n",
    "\n",
    "'''"
   ]
  },
  {
   "cell_type": "code",
   "execution_count": null,
   "id": "c1befaed-af54-4b7b-9930-11b29295fd27",
   "metadata": {},
   "outputs": [],
   "source": [
    "#4\n",
    "'''In a web scraping project, Flask can be used to create a web application that displays the scraped data to the user. The Flask application can include features such as search functionality, data filtering, and data visualization. '''"
   ]
  },
  {
   "cell_type": "code",
   "execution_count": null,
   "id": "eae4a3dd-2a94-4209-a8b3-5dd38a347c91",
   "metadata": {},
   "outputs": [],
   "source": [
    "#5\n",
    "'''\n",
    "AWS CodePipeline is a fully managed continuous delivery service that helps automate the release process for your application. It allows you to build, test, and deploy your code changes continuously and automatically to your infrastructure, so that you can release new features and updates more frequently and with greater confidence.\n",
    "\n",
    "Beanstalk is a fully managed service by AWS that makes it easy to deploy, manage, and scale web applications and services developed in different languages and frameworks such as Java, .NET, Node.js, Python, Ruby, Go, and Docker.\n",
    "'''"
   ]
  }
 ],
 "metadata": {
  "kernelspec": {
   "display_name": "Python 3 (ipykernel)",
   "language": "python",
   "name": "python3"
  },
  "language_info": {
   "codemirror_mode": {
    "name": "ipython",
    "version": 3
   },
   "file_extension": ".py",
   "mimetype": "text/x-python",
   "name": "python",
   "nbconvert_exporter": "python",
   "pygments_lexer": "ipython3",
   "version": "3.10.8"
  }
 },
 "nbformat": 4,
 "nbformat_minor": 5
}
