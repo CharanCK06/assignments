{
 "cells": [
  {
   "cell_type": "code",
   "execution_count": 1,
   "id": "786eae5a-492a-41f8-a1dc-84e5d4a0b610",
   "metadata": {},
   "outputs": [
    {
     "data": {
      "text/plain": [
       "'\\n- An exception is an error that occurs during the execution of the program\\n- Syntax errors occur during the compilation of the code,whereas exception occurs during the execution\\n  Inorder to solve syntax error code must be changed,exceptions can be handled using try except\\n  Syntax error msgs are clear but exception msgs are not clear unless it is handeled\\n'"
      ]
     },
     "execution_count": 1,
     "metadata": {},
     "output_type": "execute_result"
    }
   ],
   "source": [
    "#1\n",
    "'''\n",
    "- An exception is an error that occurs during the execution of the program\n",
    "- Syntax errors occur during the compilation of the code,whereas exception occurs during the execution\n",
    "  Inorder to solve syntax error code must be changed,exceptions can be handled using try except\n",
    "  Syntax error msgs are clear but exception msgs are not clear unless it is handeled\n",
    "'''"
   ]
  },
  {
   "cell_type": "code",
   "execution_count": 2,
   "id": "27d0ba49-42e3-42bf-a44b-9a97be0d80b7",
   "metadata": {},
   "outputs": [
    {
     "name": "stdin",
     "output_type": "stream",
     "text": [
      "Enter any number: wer\n"
     ]
    },
    {
     "ename": "ValueError",
     "evalue": "invalid literal for int() with base 10: 'wer'",
     "output_type": "error",
     "traceback": [
      "\u001b[0;31m---------------------------------------------------------------------------\u001b[0m",
      "\u001b[0;31mValueError\u001b[0m                                Traceback (most recent call last)",
      "Cell \u001b[0;32mIn[2], line 5\u001b[0m\n\u001b[1;32m      1\u001b[0m \u001b[38;5;66;03m#2\u001b[39;00m\n\u001b[1;32m      2\u001b[0m \u001b[38;5;124;03m'''\u001b[39;00m\n\u001b[1;32m      3\u001b[0m \u001b[38;5;124;03mWhen an exception is not handled,the rest of the program does not gets executed\u001b[39;00m\n\u001b[1;32m      4\u001b[0m \u001b[38;5;124;03m'''\u001b[39;00m\n\u001b[0;32m----> 5\u001b[0m n \u001b[38;5;241m=\u001b[39m \u001b[38;5;28;43mint\u001b[39;49m\u001b[43m(\u001b[49m\u001b[38;5;28;43minput\u001b[39;49m\u001b[43m(\u001b[49m\u001b[38;5;124;43m\"\u001b[39;49m\u001b[38;5;124;43mEnter any number:\u001b[39;49m\u001b[38;5;124;43m\"\u001b[39;49m\u001b[43m)\u001b[49m\u001b[43m)\u001b[49m\n\u001b[1;32m      6\u001b[0m \u001b[38;5;28mprint\u001b[39m(n)\n",
      "\u001b[0;31mValueError\u001b[0m: invalid literal for int() with base 10: 'wer'"
     ]
    }
   ],
   "source": [
    "#2\n",
    "'''\n",
    "When an exception is not handled,the rest of the program does not gets executed\n",
    "'''\n",
    "n = int(input(\"Enter any number:\"))\n",
    "print(n)"
   ]
  },
  {
   "cell_type": "code",
   "execution_count": 5,
   "id": "910e7c97-809a-4516-b4f1-a23dfef5e923",
   "metadata": {},
   "outputs": [
    {
     "name": "stdin",
     "output_type": "stream",
     "text": [
      "Enter a number: 2\n",
      "Enter another number: 0\n"
     ]
    },
    {
     "name": "stdout",
     "output_type": "stream",
     "text": [
      "integer division or modulo by zero\n"
     ]
    }
   ],
   "source": [
    "#3\n",
    "'''try - except statements are used to catch and handle exceptions\n",
    "'''\n",
    "#example\n",
    "try:\n",
    "    n1 = int(input(\"Enter a number:\"))\n",
    "    n2 = int(input(\"Enter another number:\"))\n",
    "    n3 = n1//n2\n",
    "except Exception as e:\n",
    "    print(e)\n"
   ]
  },
  {
   "cell_type": "code",
   "execution_count": 6,
   "id": "02e31aa2-ae78-4a0b-8dbd-e19f07c40625",
   "metadata": {},
   "outputs": [
    {
     "name": "stdin",
     "output_type": "stream",
     "text": [
      "Enter a number: 2\n",
      "Enter another number: 3\n"
     ]
    },
    {
     "name": "stdout",
     "output_type": "stream",
     "text": [
      "0\n",
      "2 3\n"
     ]
    }
   ],
   "source": [
    "#4\n",
    "'''\n",
    "a.try and else - if try block doesnot rise an error then else block is executed\n",
    "'''\n",
    "try:\n",
    "    n1 = int(input(\"Enter a number:\"))\n",
    "    n2 = int(input(\"Enter another number:\"))\n",
    "    n3 = n1//n2\n",
    "except Exception as e:\n",
    "    print(e)\n",
    "else:\n",
    "    print(n3)\n"
   ]
  },
  {
   "cell_type": "code",
   "execution_count": 13,
   "id": "a4586799-d357-4db7-9d81-791404a57d4e",
   "metadata": {},
   "outputs": [
    {
     "name": "stdout",
     "output_type": "stream",
     "text": [
      "3\n"
     ]
    }
   ],
   "source": [
    "#b.finally - it is executed irrespective of exception handling\n",
    "try:\n",
    "    n = 4//0\n",
    "except Exception as e:\n",
    "    e\n",
    "finally:\n",
    "    print(1+2)"
   ]
  },
  {
   "cell_type": "code",
   "execution_count": 1,
   "id": "33ed2d15-ef39-4bce-bfc0-42c52fe68b15",
   "metadata": {},
   "outputs": [],
   "source": [
    "#c.raise - it is used to manually raise an exception\n",
    "class Vote(Exception):\n",
    "    def voter(self,msg):\n",
    "        self.msg = msg"
   ]
  },
  {
   "cell_type": "code",
   "execution_count": 2,
   "id": "0b936ede-9051-489a-8a62-e754528f3d40",
   "metadata": {},
   "outputs": [],
   "source": [
    "def vote_eligible(age):\n",
    "    if age < 0:\n",
    "        raise Vote(\"invalid age\")\n",
    "    elif age < 18:\n",
    "        raise Vote(\"not eligigble to vote\")\n",
    "    elif age >150:\n",
    "        raise Vote(\"age is too high\")\n",
    "    else:\n",
    "        raise Vote(\"Eligible to vote\")"
   ]
  },
  {
   "cell_type": "code",
   "execution_count": 3,
   "id": "75822005-e5ac-489c-b98f-25de48e530f0",
   "metadata": {},
   "outputs": [
    {
     "name": "stdin",
     "output_type": "stream",
     "text": [
      "Enter your age: 23\n"
     ]
    },
    {
     "name": "stdout",
     "output_type": "stream",
     "text": [
      "Eligible to vote\n"
     ]
    }
   ],
   "source": [
    "try:\n",
    "    age = int(input(\"Enter your age:\"))\n",
    "    vote_eligible(age)\n",
    "except Vote as v:\n",
    "    print(v)"
   ]
  },
  {
   "cell_type": "code",
   "execution_count": 4,
   "id": "2508eceb-e3d9-4040-bbf4-7d6bcff77a18",
   "metadata": {},
   "outputs": [],
   "source": [
    "#5 and 6\n",
    "'''\n",
    "Custom exceptions are exceptions that are user defined.\n",
    "Here exceptions are raised to custom exception class created by the user\n",
    "\n",
    "we need custom exceptions because there can some variable which can be accepted by the python but can effect the expected processing.\n",
    "'''\n",
    "#example\n",
    "class Vote(Exception):\n",
    "    #this is an custom exception class\n",
    "    def voter(self,msg):\n",
    "        self.msg = msg"
   ]
  },
  {
   "cell_type": "code",
   "execution_count": 5,
   "id": "ea8919d6-588c-49d4-bc97-c833c2482c36",
   "metadata": {},
   "outputs": [],
   "source": [
    "def vote_eligible(age):\n",
    "    if age < 0:\n",
    "        raise Vote(\"invalid age\")\n",
    "    elif age < 18:\n",
    "        raise Vote(\"not eligigble to vote\")\n",
    "    elif age >150:\n",
    "        raise Vote(\"age is too high\")\n",
    "    else:\n",
    "        raise Vote(\"Eligible to vote\")"
   ]
  },
  {
   "cell_type": "code",
   "execution_count": 6,
   "id": "aad7e3e5-023f-4d67-9855-e6e2e7d4f1d5",
   "metadata": {},
   "outputs": [
    {
     "name": "stdin",
     "output_type": "stream",
     "text": [
      "Enter your age: 15\n"
     ]
    },
    {
     "name": "stdout",
     "output_type": "stream",
     "text": [
      "not eligigble to vote\n"
     ]
    }
   ],
   "source": [
    "try:\n",
    "    age = int(input(\"Enter your age:\"))\n",
    "    vote_eligible(age)\n",
    "except Vote as v:\n",
    "    print(v)"
   ]
  },
  {
   "cell_type": "code",
   "execution_count": null,
   "id": "43030486-389a-488b-ae22-6d9a0baffe3d",
   "metadata": {},
   "outputs": [],
   "source": []
  }
 ],
 "metadata": {
  "kernelspec": {
   "display_name": "Python 3 (ipykernel)",
   "language": "python",
   "name": "python3"
  },
  "language_info": {
   "codemirror_mode": {
    "name": "ipython",
    "version": 3
   },
   "file_extension": ".py",
   "mimetype": "text/x-python",
   "name": "python",
   "nbconvert_exporter": "python",
   "pygments_lexer": "ipython3",
   "version": "3.10.8"
  }
 },
 "nbformat": 4,
 "nbformat_minor": 5
}
