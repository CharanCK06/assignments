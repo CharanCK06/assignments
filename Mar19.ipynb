{
 "cells": [
  {
   "cell_type": "code",
   "execution_count": null,
   "id": "275fb9ad-8799-4a2a-b0ba-960b04fbf41c",
   "metadata": {},
   "outputs": [],
   "source": [
    "#1\n",
    "'''\n",
    "Min-Max scaling, also known as normalization, is a data preprocessing technique used to rescale numerical \n",
    "features to a specific range. \n",
    "\n",
    "It transforms the values of the features to a fixed interval, typically between 0 and 1, by subtracting the \n",
    "minimum value and dividing by the range of the feature.\n",
    "\n",
    "scaled_value = (xi - min_value) / (max_value - min_value)\n",
    "\n",
    "example\n",
    "Age (original)\tAge (scaled)\n",
    "20\t               0.0\n",
    "30\t               0.25\n",
    "40\t               0.5\n",
    "60\t               1.0\n",
    "'''"
   ]
  },
  {
   "cell_type": "code",
   "execution_count": null,
   "id": "68badda0-c382-4b7c-a1bd-394a034a21d0",
   "metadata": {},
   "outputs": [],
   "source": [
    "#2\n",
    "'''\n",
    "The Unit Vector technique, also known as Vector normalization or feature normalization, is a feature scaling \n",
    "method used to transform the values of numerical features into unit vectors. Unlike Min-Max scaling, which \n",
    "rescales the values to a specific range, the Unit Vector technique scales the values such that the length or \n",
    "magnitude of each vector is equal to 1.\n",
    "\n",
    "'''"
   ]
  },
  {
   "cell_type": "code",
   "execution_count": null,
   "id": "501c0971-fce4-4d36-b633-6c8d59645d96",
   "metadata": {},
   "outputs": [],
   "source": [
    "#3\n",
    "'''\n",
    "PCA (Principal Component Analysis) is a statistical technique used for dimensionality reduction and feature \n",
    "extraction. It aims to transform a high-dimensional dataset into a lower-dimensional representation while \n",
    "preserving the most important information and minimizing the loss of variance.\n",
    "\n",
    "'''"
   ]
  },
  {
   "cell_type": "code",
   "execution_count": null,
   "id": "1610ae43-4f6f-408e-8d6f-78e64d61750d",
   "metadata": {},
   "outputs": [],
   "source": [
    "#4\n",
    "'''\n",
    "\n",
    "PCA (Principal Component Analysis) can be used for feature extraction in machine learning tasks. Feature \n",
    "extraction refers to the process of transforming the original set of features into a new set of features that\n",
    "captures the most relevant and informative aspects of the data. PCA is a popular technique for feature \n",
    "extraction due to its ability to identify the most important patterns or directions of variation in the data.\n",
    "\n",
    "The relationship between PCA and feature extraction lies in the fact that PCA uses the original features to \n",
    "construct new features, known as principal components, which are linear combinations of the original features.\n",
    "These principal components are selected in a way that they capture the maximum variance in the data.\n",
    "\n",
    "'''"
   ]
  },
  {
   "cell_type": "code",
   "execution_count": null,
   "id": "cf51ef29-7766-4ede-ac22-b2a0861de448",
   "metadata": {},
   "outputs": [],
   "source": [
    "#5\n",
    "'''\n",
    "Understand the data: Analyze the dataset to identify the features that require scaling. In this case, the \n",
    "                    features that may require scaling could be price, rating, and delivery time.\n",
    "\n",
    "Calculate the minimum and maximum values: Determine the minimum and maximum values for each feature. The minimum\n",
    "value represents the lower bound, and the maximum value represents the upper bound for scaling.\n",
    "\n",
    "Apply the Min-Max scaling formula: For each feature, apply the Min-Max scaling formula to transform the values \n",
    "within a specified range (typically between 0 and 1). \n",
    "\n",
    "The formula is as follows:\n",
    "scaled_value = (x - min_value) / (max_value - min_value)\n",
    "\n",
    "where x is the original value of the feature.\n",
    "\n",
    "Perform scaling on the dataset: Apply the Min-Max scaling transformation to the dataset by replacing the original\n",
    "feature values with the scaled values. This ensures that all the features are on a similar scale, which can be \n",
    "beneficial for certain machine learning algorithms.\n",
    "'''"
   ]
  },
  {
   "cell_type": "code",
   "execution_count": null,
   "id": "553b52be-0171-4229-99b0-2a69d1431b16",
   "metadata": {},
   "outputs": [],
   "source": [
    "#6\n",
    "'''\n",
    "Understand the dataset: Analyze the dataset and identify the features that are relevant for stock price\n",
    "prediction. These features can include company financial data (e.g., revenue, earnings, debt) and market trends \n",
    "(e.g., interest rates, market indices).\n",
    "\n",
    "Data preprocessing: Preprocess the dataset by handling missing values, normalizing or standardizing the features \n",
    "if necessary, and ensuring that the data is in a suitable format for PCA.\n",
    "\n",
    "Standardize the data: Since PCA is based on the covariance matrix, it is important to standardize the features \n",
    "to have zero mean and unit variance. This step ensures that all features contribute equally to the principal \n",
    "components.\n",
    "\n",
    "Perform PCA: Apply PCA on the standardized dataset to extract the principal components. PCA identifies the \n",
    "linear combinations of the original features that capture the maximum variance in the data.\n",
    "\n",
    "Determine the number of components: Evaluate the variance explained by each principal component and determine \n",
    "the number of components to retain. This can be done by examining the explained variance ratio or by setting a\n",
    "threshold for the amount of variance to be retained (e.g., retaining components that explain at least 95% of the\n",
    "variance).\n",
    "\n",
    "Select the principal components: Choose the top-k principal components based on the determined number from the \n",
    "previous step. These components represent the most important patterns or directions of variation in the dataset.\n",
    "\n",
    "Reduce dimensionality: Project the original dataset onto the selected principal components to obtain a lower-\n",
    "dimensional representation of the data. This reduces the dimensionality while retaining the most significant \n",
    "information.\n",
    "\n",
    "Model training: Use the reduced-dimensional dataset as input for training your stock price prediction model. \n",
    "The reduced dataset should contain the selected principal components that capture the majority of the variance \n",
    "in the original dataset.\n",
    "'''"
   ]
  },
  {
   "cell_type": "code",
   "execution_count": null,
   "id": "f9199d58-6f2c-4f75-b438-30c4f9d7dbe5",
   "metadata": {},
   "outputs": [],
   "source": [
    "#7\n",
    "'''\n",
    "For 1: scaled_value = (1 - 1) / (20 - 1) * (1 - (-1)) + (-1) = -1\n",
    "For 5: scaled_value = (5 - 1) / (20 - 1) * (1 - (-1)) + (-1) = -0.6\n",
    "For 10: scaled_value = (10 - 1) / (20 - 1) * (1 - (-1)) + (-1) = -0.2\n",
    "For 15: scaled_value = (15 - 1) / (20 - 1) * (1 - (-1)) + (-1) = 0.2\n",
    "For 20: scaled_value = (20 - 1) / (20 - 1) * (1 - (-1)) + (-1) = 1\n",
    "The Min-Max scaled values for the dataset [1, 5, 10, 15, 20] in the range of -1 to 1 are:\n",
    "[-1, -0.6, -0.2, 0.2, 1]\n",
    "'''"
   ]
  },
  {
   "cell_type": "code",
   "execution_count": null,
   "id": "50472952-9aca-4dd9-9084-8274ccedb49a",
   "metadata": {},
   "outputs": [],
   "source": [
    "#8\n",
    "'''\n",
    "the features [height, weight, age, gender, blood pressure], you would perform PCA and examine the explained \n",
    "variance ratio. Based on the cumulative explained variance and your desired level of variance explained, you \n",
    "can choose the appropriate number of principal components to retain.\n",
    "'''"
   ]
  }
 ],
 "metadata": {
  "kernelspec": {
   "display_name": "Python 3 (ipykernel)",
   "language": "python",
   "name": "python3"
  },
  "language_info": {
   "codemirror_mode": {
    "name": "ipython",
    "version": 3
   },
   "file_extension": ".py",
   "mimetype": "text/x-python",
   "name": "python",
   "nbconvert_exporter": "python",
   "pygments_lexer": "ipython3",
   "version": "3.10.8"
  }
 },
 "nbformat": 4,
 "nbformat_minor": 5
}
