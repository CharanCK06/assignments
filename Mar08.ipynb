{
 "cells": [
  {
   "cell_type": "code",
   "execution_count": null,
   "id": "9ffcf104-ce44-4a85-a646-49b3e60fdc6e",
   "metadata": {},
   "outputs": [],
   "source": [
    "#1\n",
    "'''\n",
    "Probability Density Function is the probability distribution of continuous random variable.\n",
    "- It is derivative of the cumulative distribution function.\n",
    "Ex: heights of students,weights of students\n",
    "'''"
   ]
  },
  {
   "cell_type": "code",
   "execution_count": null,
   "id": "73109f97-8c43-471f-a312-650b85a22507",
   "metadata": {},
   "outputs": [],
   "source": [
    "#2\n",
    "The types of Probability Distribution are:\n",
    "    1.Normal/Gaussian Distribution\n",
    "    2.Bernoulli Distribution\n",
    "    3.Binomial Distribution\n",
    "    4.Uniform Distribution\n",
    "    5.Poisson Distribution\n",
    "    6.Log Normal Distribution\n",
    "    7.Power Law Distribution"
   ]
  },
  {
   "cell_type": "code",
   "execution_count": 3,
   "id": "89fb20c5-e774-4085-ae50-69c5b21c0d7b",
   "metadata": {},
   "outputs": [],
   "source": [
    "#3\n",
    "from scipy.stats import norm\n",
    "def normal_pdf(x,mean,std_dev):\n",
    "    return norm.pdf(x,mean,std_dev)"
   ]
  },
  {
   "cell_type": "code",
   "execution_count": 4,
   "id": "ed83809a-51ee-4bf5-a70e-6fa2312af025",
   "metadata": {},
   "outputs": [
    {
     "data": {
      "text/plain": [
       "0.3989422804014327"
      ]
     },
     "execution_count": 4,
     "metadata": {},
     "output_type": "execute_result"
    }
   ],
   "source": [
    "normal_pdf(0,0,1)"
   ]
  },
  {
   "cell_type": "code",
   "execution_count": null,
   "id": "0ef8de24-baa2-460a-ac0b-025cf9a7a565",
   "metadata": {},
   "outputs": [],
   "source": [
    "#4\n",
    "'''\n",
    "Binomial Distribution:\n",
    "    It is the discrete probability distribution of sequence of n independent experiments.\n",
    "    - If n=1,Binomial distribution is Bernoulli Distribution.\n",
    "    - success : p=1\n",
    "    - failure : q = 1-p\n",
    "Ex: Tossing a coin for 10 times\n",
    "    Rolling a dice for 2 times\n",
    "'''"
   ]
  },
  {
   "cell_type": "code",
   "execution_count": 8,
   "id": "f3dd92f9-4928-4064-9d24-8ab3401bfec0",
   "metadata": {},
   "outputs": [
    {
     "data": {
      "image/png": "[encoded data removed]",
      "text/plain": [
       "<Figure size 640x480 with 1 Axes>"
      ]
     },
     "metadata": {},
     "output_type": "display_data"
    }
   ],
   "source": [
    "#5\n",
    "import numpy as np\n",
    "import matplotlib.pyplot as plt\n",
    "\n",
    "p = 0.4\n",
    "n = 1000\n",
    "\n",
    "sample = np.random.binomial(n,p)\n",
    "\n",
    "plt.hist(sample)\n",
    "plt.show()"
   ]
  },
  {
   "cell_type": "code",
   "execution_count": 11,
   "id": "7560fb66-fe68-4081-bab6-f13b7956b729",
   "metadata": {},
   "outputs": [],
   "source": [
    "#6\n",
    "from scipy.stats import poisson\n",
    "def poisson_cdf(x,mean):\n",
    "    return poisson.cdf(x,mean)"
   ]
  },
  {
   "cell_type": "code",
   "execution_count": 21,
   "id": "27a3c21d-eff0-4cb1-845b-a766e4fb6d15",
   "metadata": {},
   "outputs": [
    {
     "data": {
      "text/plain": [
       "0.42319008112684364"
      ]
     },
     "execution_count": 21,
     "metadata": {},
     "output_type": "execute_result"
    }
   ],
   "source": [
    "poisson_cdf(2,3)"
   ]
  },
  {
   "cell_type": "code",
   "execution_count": null,
   "id": "29e76073-ffa1-4f23-a450-e139df5b2e8c",
   "metadata": {},
   "outputs": [],
   "source": [
    "#7\n",
    "'''Binomial distribution is used to model the number of successes in a fixed number of independent trials\n",
    "   Poisson  distribution is used to model the number of events occurring in a fixed interval of time or space '''"
   ]
  },
  {
   "cell_type": "code",
   "execution_count": 23,
   "id": "1fdd74f2-40ce-4feb-bfb0-03fb6a7cf56b",
   "metadata": {},
   "outputs": [
    {
     "name": "stdout",
     "output_type": "stream",
     "text": [
      "5.013   4.834831\n"
     ]
    }
   ],
   "source": [
    "#8\n",
    "m = 5\n",
    "n = 1000\n",
    "sample = np.random.poisson(size = 1000,lam = 5)\n",
    "meaan = np.mean(sample)\n",
    "varr = np.var(sample)\n",
    "print(meaan,\" \",varr)\n"
   ]
  },
  {
   "cell_type": "code",
   "execution_count": null,
   "id": "4e09d639-0b91-410e-91ab-fabea5e5846d",
   "metadata": {},
   "outputs": [],
   "source": [
    "#9\n",
    "'''\n",
    "Binomial:\n",
    "    mean = np\n",
    "    variance = npq\n",
    "poisson:\n",
    "    mean = variance = expected no.of.events at every interval * time interval\n",
    "'''"
   ]
  },
  {
   "cell_type": "code",
   "execution_count": null,
   "id": "feedd2c6-3eb5-4cfb-a69a-d630607fd58c",
   "metadata": {},
   "outputs": [],
   "source": [
    "#10\n",
    "'''\n",
    "Least frequent data appear far from the 2,3 standard deviations of mean\n",
    "'''"
   ]
  }
 ],
 "metadata": {
  "kernelspec": {
   "display_name": "Python 3 (ipykernel)",
   "language": "python",
   "name": "python3"
  },
  "language_info": {
   "codemirror_mode": {
    "name": "ipython",
    "version": 3
   },
   "file_extension": ".py",
   "mimetype": "text/x-python",
   "name": "python",
   "nbconvert_exporter": "python",
   "pygments_lexer": "ipython3",
   "version": "3.10.8"
  }
 },
 "nbformat": 4,
 "nbformat_minor": 5
}
