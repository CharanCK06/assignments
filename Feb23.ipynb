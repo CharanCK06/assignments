{
 "cells": [
  {
   "cell_type": "code",
   "execution_count": 1,
   "id": "684a32ea-6f87-4b3a-849e-bc7543c71690",
   "metadata": {},
   "outputs": [],
   "source": [
    "import pandas as pd"
   ]
  },
  {
   "cell_type": "code",
   "execution_count": 15,
   "id": "053af8c3-2050-47e2-b422-f464c2dfbfd6",
   "metadata": {},
   "outputs": [
    {
     "name": "stdout",
     "output_type": "stream",
     "text": [
      "0     4\n",
      "1     8\n",
      "2    15\n",
      "3    16\n",
      "4    23\n",
      "5    42\n",
      "dtype: int64\n"
     ]
    }
   ],
   "source": [
    "#1\n",
    "ls = [4,8,15,16,23,42]\n",
    "s = pd.Series(ls)\n",
    "print(s)"
   ]
  },
  {
   "cell_type": "code",
   "execution_count": 2,
   "id": "7fd5814f-2a2a-43ee-8feb-22f4587cd8db",
   "metadata": {},
   "outputs": [],
   "source": [
    "#2\n",
    "l = [1,2,3,4,5,6,7,8,9,10]"
   ]
  },
  {
   "cell_type": "code",
   "execution_count": 4,
   "id": "3ca21502-e4de-4e2f-9b04-b888b0d3ead5",
   "metadata": {},
   "outputs": [
    {
     "name": "stdout",
     "output_type": "stream",
     "text": [
      "0     1\n",
      "1     2\n",
      "2     3\n",
      "3     4\n",
      "4     5\n",
      "5     6\n",
      "6     7\n",
      "7     8\n",
      "8     9\n",
      "9    10\n",
      "dtype: int64\n"
     ]
    }
   ],
   "source": [
    "print(pd.Series(l))"
   ]
  },
  {
   "cell_type": "code",
   "execution_count": 6,
   "id": "1f6c2b09-8884-4665-997e-0b52037f5097",
   "metadata": {},
   "outputs": [
    {
     "name": "stdout",
     "output_type": "stream",
     "text": [
      "     Name  Age  Gender\n",
      "0   Alice   25  Female\n",
      "1     Bob   30    Male\n",
      "2  Claire   27  Female\n"
     ]
    }
   ],
   "source": [
    "#3\n",
    "data = {\n",
    "        'Name':['Alice','Bob','Claire'],\n",
    "        'Age':[25,30,27],\n",
    "        'Gender':['Female','Male','Female']\n",
    "        }\n",
    "df = pd.DataFrame(data)\n",
    "print(df)"
   ]
  },
  {
   "cell_type": "code",
   "execution_count": 12,
   "id": "d5a69198-52ac-42b2-be40-fb2f647c4d7e",
   "metadata": {},
   "outputs": [
    {
     "name": "stdout",
     "output_type": "stream",
     "text": [
      "--DataFrame--\n",
      "     Name  Age  Gender\n",
      "0   Alice   25  Female\n",
      "1     Bob   30    Male\n",
      "2  Claire   27  Female\n",
      "<class 'pandas.core.frame.DataFrame'>\n",
      "--Series--\n",
      "0     Alice\n",
      "1       Bob\n",
      "2    Claire\n",
      "Name: Name, dtype: object\n",
      "<class 'pandas.core.series.Series'>\n"
     ]
    }
   ],
   "source": [
    "#4\n",
    "#DataFrame - tabular structured data\n",
    "print('--DataFrame--')\n",
    "print(df)\n",
    "print(type(df))\n",
    "#Series - single column of dataframe\n",
    "print('--Series--')\n",
    "print(df['Name'])\n",
    "print(type(df['Name']))"
   ]
  },
  {
   "cell_type": "code",
   "execution_count": 13,
   "id": "e75d7d73-3ddf-44c3-ac70-f677895542c3",
   "metadata": {
    "tags": []
   },
   "outputs": [
    {
     "name": "stdout",
     "output_type": "stream",
     "text": [
      "--head--\n",
      "    Name  Age  Gender\n",
      "0  Alice   25  Female\n",
      "1    Bob   30    Male\n",
      "--tail--\n",
      "     Name  Age  Gender\n",
      "1     Bob   30    Male\n",
      "2  Claire   27  Female\n"
     ]
    }
   ],
   "source": [
    "#5\n",
    "#dataset.head(n)-returns first n rows of data\n",
    "print(\"--head--\")\n",
    "print(df.head(2))\n",
    "print(\"--tail--\")\n",
    "print(df.tail(2))"
   ]
  },
  {
   "cell_type": "code",
   "execution_count": null,
   "id": "dca81102-7a18-4ce8-8a18-2c3dd50a1542",
   "metadata": {},
   "outputs": [],
   "source": [
    "#6\n",
    "'''DataFrame,Series,Panel are mutable'''"
   ]
  },
  {
   "cell_type": "code",
   "execution_count": 18,
   "id": "e336a3e4-ca60-40d9-82ee-208110053169",
   "metadata": {},
   "outputs": [
    {
     "name": "stdout",
     "output_type": "stream",
     "text": [
      "     l1  l2\n",
      "0   4.0   1\n",
      "1   8.0   2\n",
      "2  15.0   3\n",
      "3  16.0   4\n",
      "4  23.0   5\n",
      "5  42.0   6\n",
      "6   NaN   7\n",
      "7   NaN   8\n",
      "8   NaN   9\n",
      "9   NaN  10\n"
     ]
    }
   ],
   "source": [
    "#7\n",
    "data1 = {\n",
    "    'l1':pd.Series(ls),\n",
    "    'l2':pd.Series(l)\n",
    "}\n",
    "df1 = pd.DataFrame(data1)\n",
    "print(df1)"
   ]
  },
  {
   "cell_type": "code",
   "execution_count": null,
   "id": "805bb8f9-47c7-4cb4-9acf-ed685e03e059",
   "metadata": {},
   "outputs": [],
   "source": []
  }
 ],
 "metadata": {
  "kernelspec": {
   "display_name": "Python 3 (ipykernel)",
   "language": "python",
   "name": "python3"
  },
  "language_info": {
   "codemirror_mode": {
    "name": "ipython",
    "version": 3
   },
   "file_extension": ".py",
   "mimetype": "text/x-python",
   "name": "python",
   "nbconvert_exporter": "python",
   "pygments_lexer": "ipython3",
   "version": "3.10.8"
  }
 },
 "nbformat": 4,
 "nbformat_minor": 5
}
