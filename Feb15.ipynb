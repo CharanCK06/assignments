{
 "cells": [
  {
   "cell_type": "code",
   "execution_count": null,
   "id": "fecafae6-5f9b-4718-9e43-fe8fb07bf15a",
   "metadata": {},
   "outputs": [],
   "source": [
    "#1\n",
    "'''\n",
    "multiprocessing is a module that provides a way to run multiple processes in parallel. \n",
    "Multiprocessing is useful for improving the performance of CPU-bound tasks by distributing the work across multiple CPU cores.\n",
    "'''"
   ]
  },
  {
   "cell_type": "code",
   "execution_count": null,
   "id": "5d764958-02b7-4189-83b4-86ef42154627",
   "metadata": {},
   "outputs": [],
   "source": [
    "#2\n",
    "'''\n",
    "Multiprocessing creates multiple processes with their own memory space, while multithreading creates multiple threads within a single process, sharing the same memory space. Multiprocessing achieves true parallelism, while multithreading achieves concurrency.\n",
    "'''\n"
   ]
  },
  {
   "cell_type": "code",
   "execution_count": 1,
   "id": "9cddcfc9-b67f-45dc-bbbd-e6f6c04f9b05",
   "metadata": {},
   "outputs": [
    {
     "name": "stdout",
     "output_type": "stream",
     "text": [
      "Process started\n"
     ]
    }
   ],
   "source": [
    "#3\n",
    "import multiprocessing\n",
    "def multi():\n",
    "    print(\"Process started\")\n",
    "m = multiprocessing.Process(target=multi)\n",
    "m.start()"
   ]
  },
  {
   "cell_type": "code",
   "execution_count": null,
   "id": "a31758f3-026b-4ee1-87b3-95262fe908c4",
   "metadata": {},
   "outputs": [],
   "source": [
    "#4\n",
    "'''\n",
    " the multiprocessing module provides a way to run multiple processes in parallel, which can help improve performance and speed up the execution of CPU-bound tasks. A multiprocessing pool is a way to create a pool of worker processes that can execute tasks in parallel.\n",
    "'''"
   ]
  },
  {
   "cell_type": "code",
   "execution_count": 4,
   "id": "125f4f91-0cf8-4be0-b261-a24c43598c0e",
   "metadata": {},
   "outputs": [
    {
     "data": {
      "text/plain": [
       "' create a pool of worker processes using the Pool class and specify the number of processes to use as an argument to the Pool constructor. In this case, we create a pool of n worker processes.'"
      ]
     },
     "execution_count": 4,
     "metadata": {},
     "output_type": "execute_result"
    }
   ],
   "source": [
    "#5\n",
    "''' create a pool of worker processes using the Pool class and specify the number of processes to use as an argument to the Pool constructor. In this case, we create a pool of n worker processes.'''"
   ]
  },
  {
   "cell_type": "code",
   "execution_count": 2,
   "id": "adf52aa5-d44e-4463-a453-12a9789b9942",
   "metadata": {},
   "outputs": [
    {
     "name": "stdout",
     "output_type": "stream",
     "text": [
      "2134\n",
      "\n",
      "\n",
      "\n",
      "5678\n",
      "\n",
      "\n",
      "\n",
      "9101112\n",
      "\n",
      "\n",
      "\n"
     ]
    }
   ],
   "source": [
    "#6 pool example\n",
    "def num(n):\n",
    "    print(n)\n",
    "pool_n = multiprocessing.Pool(processes = 4)\n",
    "lst = [1,2,3,4,5,6,7,8,9,10,11,12]\n",
    "out = pool_n.map(num,lst)"
   ]
  },
  {
   "cell_type": "code",
   "execution_count": null,
   "id": "354fbed9-d1b7-49fd-804f-1085ac6d6863",
   "metadata": {},
   "outputs": [],
   "source": []
  },
  {
   "cell_type": "code",
   "execution_count": null,
   "id": "68cdf7df-0e09-4af0-a44a-4274a8e9c9b8",
   "metadata": {},
   "outputs": [],
   "source": []
  }
 ],
 "metadata": {
  "kernelspec": {
   "display_name": "Python 3 (ipykernel)",
   "language": "python",
   "name": "python3"
  },
  "language_info": {
   "codemirror_mode": {
    "name": "ipython",
    "version": 3
   },
   "file_extension": ".py",
   "mimetype": "text/x-python",
   "name": "python",
   "nbconvert_exporter": "python",
   "pygments_lexer": "ipython3",
   "version": "3.10.8"
  }
 },
 "nbformat": 4,
 "nbformat_minor": 5
}
