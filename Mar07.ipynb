{
 "cells": [
  {
   "cell_type": "code",
   "execution_count": null,
   "id": "48dfdbfe-2cfb-4c2b-af1b-3a0eaa98fbab",
   "metadata": {},
   "outputs": [],
   "source": [
    "#1\n",
    "The three Measures of Central Tendency are:\n",
    "    i.Mean\n",
    "    ii.Median\n",
    "    iii.Mode"
   ]
  },
  {
   "cell_type": "code",
   "execution_count": null,
   "id": "a1a2804a-7cfe-40a2-99af-1ee49fadf8df",
   "metadata": {},
   "outputs": [],
   "source": [
    "#2\n",
    "i. Mean: It is the average of the dataset.\n",
    "        It is of two types:\n",
    "        1. Population mean\n",
    "        2. Sample mean\n",
    "    formula = sum of elements\\no.of.elements\n",
    "ii.Median: It is the middle element of the sorted dataset\n",
    "iii.Mode : It is the element with highest frequency in the dataset."
   ]
  },
  {
   "cell_type": "code",
   "execution_count": 1,
   "id": "02b3d715-bc7f-4f8a-a395-8704b6f0fc06",
   "metadata": {},
   "outputs": [
    {
     "name": "stdout",
     "output_type": "stream",
     "text": [
      "177.01875\n"
     ]
    }
   ],
   "source": [
    "#3\n",
    "import numpy as np\n",
    "lst = [178,177,176,177,178.2,178,175,179,180,175,178.9,176.2,177,172.5,178,176.5]\n",
    "mean = np.mean(lst)\n",
    "print(mean)"
   ]
  },
  {
   "cell_type": "code",
   "execution_count": 2,
   "id": "34f20e4f-d11f-497a-9f00-3e567139153c",
   "metadata": {},
   "outputs": [
    {
     "name": "stdout",
     "output_type": "stream",
     "text": [
      "1.7885814036548633\n"
     ]
    }
   ],
   "source": [
    "#4\n",
    "std = np.std(lst)\n",
    "print(std)"
   ]
  },
  {
   "cell_type": "code",
   "execution_count": null,
   "id": "17264e3a-d3d0-41cc-a763-e9f08bd75e66",
   "metadata": {},
   "outputs": [],
   "source": [
    "#5\n",
    "i.Range: It is the difference between the maximum and the minimum value in the dataset.\n",
    "ii.Variance: It is the average squared deviation of eac datapoint from mean\n",
    "                high varaince - more spread out from the mean\n",
    "                low variance - datapoints are near to the mean\n",
    "iii.Standard deviation: Square root of variance"
   ]
  },
  {
   "cell_type": "code",
   "execution_count": null,
   "id": "0cb9c3e5-c039-4b10-aaf6-497aeb743051",
   "metadata": {},
   "outputs": [],
   "source": [
    "#6\n",
    "Venn diagram is the graphical representation of different sets of data."
   ]
  },
  {
   "cell_type": "code",
   "execution_count": 3,
   "id": "d3acc6cc-b1b8-4659-b0b3-a68a29c69829",
   "metadata": {},
   "outputs": [
    {
     "name": "stdout",
     "output_type": "stream",
     "text": [
      "i.intersect: [2 6]\n",
      "ii.union: [ 0  2  3  4  5  6  7  8 10]\n"
     ]
    }
   ],
   "source": [
    "#7\n",
    "a = [2,3,4,5,6,7]\n",
    "b = [0,2,6,8,10]\n",
    "i = np.intersect1d(a,b)\n",
    "u = np.union1d(a,b)\n",
    "print(\"i.intersect:\",i)\n",
    "print(\"ii.union:\",u)"
   ]
  },
  {
   "cell_type": "code",
   "execution_count": null,
   "id": "67ed846a-f1e4-4d3e-892a-3d66f57b98ea",
   "metadata": {},
   "outputs": [],
   "source": [
    "#8\n",
    "Skewness means how much is the data asymmetrical to its mean."
   ]
  },
  {
   "cell_type": "code",
   "execution_count": null,
   "id": "56850048-71a4-46e3-9af9-80403748cd27",
   "metadata": {},
   "outputs": [],
   "source": [
    "#9\n",
    "if we plot a boxplot to the right skewed data,the median is nearer to the lower quartile of the data."
   ]
  },
  {
   "cell_type": "code",
   "execution_count": null,
   "id": "154b882d-da4b-46aa-b333-7d7c8c19d98b",
   "metadata": {},
   "outputs": [],
   "source": [
    "#10\n",
    "Covariance - it represents how two variable vary together\n",
    "                example: if x increases ,y also increases is the relation between x and y\n",
    "            it also represents whether the relation between two variables is positive or negative.\n",
    "Correalation - it represents the relation between two variables\n",
    "                values lies in between -1 to +1\n",
    "                if value is near to zero,less corelated\n",
    "                if value is near to +1,positively high correlated\n",
    "                if value is near to -1,negatively high correlated"
   ]
  },
  {
   "cell_type": "code",
   "execution_count": null,
   "id": "78feeb85-8dbc-4ef7-bfaa-a2e30ed62d81",
   "metadata": {},
   "outputs": [],
   "source": [
    "#11\n",
    "    S = ( Σ xi ) ÷ n\n",
    "    S - mean\n",
    "    xi - ith element in the dataset x\n",
    "    n - no of elements\n",
    "    \n",
    "    a = [1,2,3,4,5]\n",
    "    mean of a = (1+2+3+4+5)/5\n",
    "              = 15"
   ]
  },
  {
   "cell_type": "code",
   "execution_count": null,
   "id": "371147fd-c6ea-4e97-bd52-5f1d20a45061",
   "metadata": {},
   "outputs": [],
   "source": [
    "#12\n",
    "For normal distribution,\n",
    "- mean < median < mode\n",
    "- q3-q2 > q2-q1"
   ]
  },
  {
   "cell_type": "code",
   "execution_count": null,
   "id": "b77d58bf-16f6-45a8-ab07-e2bc93b6374a",
   "metadata": {},
   "outputs": [],
   "source": [
    "#13\n",
    " Covariance represents how the two variable vary together,but doesnot have specific limit value to relate.That factor\n",
    "    is satisfied by correlation because its value lies inbetween -1 to +1."
   ]
  },
  {
   "cell_type": "code",
   "execution_count": 6,
   "id": "5c31ba44-1a28-4db6-8c0b-316637b630c3",
   "metadata": {},
   "outputs": [
    {
     "name": "stdout",
     "output_type": "stream",
     "text": [
      "mean: 3.0\n",
      "outlier mean: 19.166666666666668\n",
      "median: 3.0\n",
      "outlier median: 3.5\n",
      "mode: ModeResult(mode=array([1]), count=array([1]))\n",
      "mode: ModeResult(mode=array([1]), count=array([1]))\n",
      "Variance:  2.0\n",
      "Outlier variance:  1308.4722222222222\n",
      "Standard Deviation:  1.4142135623730951\n",
      "Outlier Standard Deviation:  36.17281053805775\n"
     ]
    },
    {
     "name": "stderr",
     "output_type": "stream",
     "text": [
      "/tmp/ipykernel_70/2977132717.py:10: FutureWarning: Unlike other reduction functions (e.g. `skew`, `kurtosis`), the default behavior of `mode` typically preserves the axis it acts along. In SciPy 1.11.0, this behavior will change: the default value of `keepdims` will become False, the `axis` over which the statistic is taken will be eliminated, and the value None will no longer be accepted. Set `keepdims` to True or False to avoid this warning.\n",
      "  print(\"mode:\",stats.mode(liist))\n",
      "/tmp/ipykernel_70/2977132717.py:11: FutureWarning: Unlike other reduction functions (e.g. `skew`, `kurtosis`), the default behavior of `mode` typically preserves the axis it acts along. In SciPy 1.11.0, this behavior will change: the default value of `keepdims` will become False, the `axis` over which the statistic is taken will be eliminated, and the value None will no longer be accepted. Set `keepdims` to True or False to avoid this warning.\n",
      "  print(\"mode:\" , stats.mode(outlier))\n"
     ]
    }
   ],
   "source": [
    "#14\n",
    "'''Outliers affect on measures of central tendency'''\n",
    "from scipy import stats\n",
    "liist = [1,2,3,4,5]\n",
    "outlier = [1,2,3,4,5,100]\n",
    "print(\"mean:\" , np.mean(liist))\n",
    "print(\"outlier mean:\" , np.mean(outlier))\n",
    "print(\"median:\" , np.median(liist))\n",
    "print(\"outlier median:\" , np.median(outlier))\n",
    "print(\"mode:\",stats.mode(liist))\n",
    "print(\"mode:\" , stats.mode(outlier))\n",
    "'''Outliers affect on measures of dispersion'''\n",
    "print(\"Variance: \",np.var(liist))\n",
    "print(\"Outlier variance: \",np.var(outlier))\n",
    "print(\"Standard Deviation: \",np.std(liist))\n",
    "print(\"Outlier Standard Deviation: \",np.std(outlier))"
   ]
  }
 ],
 "metadata": {
  "kernelspec": {
   "display_name": "Python 3 (ipykernel)",
   "language": "python",
   "name": "python3"
  },
  "language_info": {
   "codemirror_mode": {
    "name": "ipython",
    "version": 3
   },
   "file_extension": ".py",
   "mimetype": "text/x-python",
   "name": "python",
   "nbconvert_exporter": "python",
   "pygments_lexer": "ipython3",
   "version": "3.10.8"
  }
 },
 "nbformat": 4,
 "nbformat_minor": 5
}
