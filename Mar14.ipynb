{
 "cells": [
  {
   "cell_type": "code",
   "execution_count": 4,
   "id": "4216870e-a57c-4b20-8b21-e9b6ffe9a209",
   "metadata": {},
   "outputs": [
    {
     "name": "stdout",
     "output_type": "stream",
     "text": [
      "F-value:  0.4174757281553397\n",
      "p-value:  0.7908677512807925\n"
     ]
    }
   ],
   "source": [
    "#1\n",
    "import scipy.stats as stats\n",
    "import numpy as np\n",
    "\n",
    "def variance_ratio_(data1, data2):\n",
    "    var1 = np.var(data1)\n",
    "    var2 = np.var(data2)\n",
    "    f_value = var1/var2\n",
    "\n",
    "    df1 = len(data1) - 1\n",
    "    df2 = len(data2) - 1\n",
    "\n",
    "    p_value = stats.f.sf(f_value, df1, df2)\n",
    "\n",
    "    return f_value, p_value\n",
    "\n",
    "data1 = [3, 6, 2, 7, 5]\n",
    "data2 = [4, 9, 1, 8, 6]\n",
    "\n",
    "f_value, p_value = variance_ratio_(data1, data2)\n",
    "\n",
    "print(\"F-value: \", f_value)\n",
    "print(\"p-value: \", p_value)"
   ]
  },
  {
   "cell_type": "code",
   "execution_count": 5,
   "id": "39ddb34e-b5f4-4e60-8834-483d0b507987",
   "metadata": {},
   "outputs": [],
   "source": [
    "#2\n",
    "from scipy.stats import f\n",
    "\n",
    "def crit_f_value(alpha, dfn, dfd):\n",
    "    return f.ppf(1 - alpha / 2, dfn, dfd)"
   ]
  },
  {
   "cell_type": "code",
   "execution_count": 6,
   "id": "223f7184-1d66-44a4-aefe-a9042e201676",
   "metadata": {},
   "outputs": [
    {
     "name": "stdout",
     "output_type": "stream",
     "text": [
      "F-value: 1.97\n",
      "Degrees of freedom: 49, 59\n",
      "P-value: 0.0135\n"
     ]
    }
   ],
   "source": [
    "#3\n",
    "import numpy as np\n",
    "from scipy.stats import f\n",
    "\n",
    "# Set seed for reproducibility\n",
    "np.random.seed(123)\n",
    "\n",
    "# Generate random samples from two normal distributions\n",
    "n1 = 50\n",
    "n2 = 60\n",
    "sample1 = np.random.normal(5, 2, n1)\n",
    "sample2 = np.random.normal(5.5,3, n2)\n",
    "\n",
    "# Calculate variances and degrees of freedom\n",
    "var1 = np.var(sample1, ddof=1)\n",
    "var2 = np.var(sample2, ddof=1)\n",
    "df1 = n1 - 1\n",
    "df2 = n2 - 1\n",
    "\n",
    "# Calculate F-value and p-value\n",
    "f_val = var1 / var2 if var1 > var2 else var2 / var1\n",
    "p_val = f.sf(f_val, df1, df2) * 2  # two-tailed test\n",
    "\n",
    "# Print results\n",
    "print(f\"F-value: {f_val:.2f}\")\n",
    "print(f\"Degrees of freedom: {df1}, {df2}\")\n",
    "print(f\"P-value: {p_val:.4f}\")\n"
   ]
  },
  {
   "cell_type": "code",
   "execution_count": 7,
   "id": "7349bd68-d6f6-4a8b-a0b6-1aaf5a46082d",
   "metadata": {},
   "outputs": [
    {
     "name": "stdout",
     "output_type": "stream",
     "text": [
      "F-statistic: 0.7811184029548583\n",
      "p-value: 0.6891842787467468\n",
      "Fail to reject null hypothesis: variances are not significantly different.\n"
     ]
    }
   ],
   "source": [
    "#4\n",
    "import numpy as np\n",
    "\n",
    "np.random.seed(123)\n",
    "\n",
    "# Population parameters\n",
    "mu1, mu2 = 0, 0\n",
    "sigma1, sigma2 = np.sqrt(10), np.sqrt(15)\n",
    "n1, n2 = 12, 12\n",
    "\n",
    "# Generate random samples from the two populations\n",
    "sample1 = np.random.normal(mu1, sigma1, n1)\n",
    "sample2 = np.random.normal(mu2, sigma2, n2)\n",
    "\n",
    "# Calculate sample variances\n",
    "s1_sq = np.var(sample1, ddof=1)\n",
    "s2_sq = np.var(sample2, ddof=1)\n",
    "\n",
    "# Calculate F-statistic\n",
    "F = s1_sq / s2_sq\n",
    "print(\"F-statistic:\", F)\n",
    "\n",
    "# Calculate p-value\n",
    "p_value = 2 * min(stats.f.cdf(F, dfn=n1-1, dfd=n2-1), 1 - stats.f.cdf(F, dfn=n1-1, dfd=n2-1))\n",
    "print(\"p-value:\", p_value)\n",
    "\n",
    "if p_value < 0.05:\n",
    "    print(\"Reject null hypothesis: variances are significantly different.\")\n",
    "else:\n",
    "    print(\"Fail to reject null hypothesis: variances are not significantly different.\")\n",
    "\n"
   ]
  },
  {
   "cell_type": "code",
   "execution_count": null,
   "id": "49842893-b35b-4c55-a7b5-2714202ff0d9",
   "metadata": {},
   "outputs": [],
   "source": [
    "#5\n",
    "H0: population std = 0.005\n",
    "H1: population std > 0.005\n",
    "F = 0.006 / 0.005 = 1.2\n",
    "\n",
    "f(0.01,24) = 2.590\n",
    "1.2 < 2.590\n",
    "\n",
    "fail to reject H0"
   ]
  },
  {
   "cell_type": "code",
   "execution_count": 8,
   "id": "e678267e-e901-4861-931a-2568615734b3",
   "metadata": {},
   "outputs": [],
   "source": [
    "#6\n",
    "import math\n",
    "\n",
    "def f_distribution_mean_variance(numerator_df, denominator_df):\n",
    "    if numerator_df <= 0 or denominator_df <= 0:\n",
    "        raise ValueError(\"Degrees of freedom must be positive integers.\")\n",
    "\n",
    "    mean = denominator_df / (denominator_df - 2)\n",
    "    variance = (2 * denominator_df ** 2 * (numerator_df + denominator_df - 2)) / (numerator_df * (denominator_df - 2) ** 2 * (denominator_df - 4))\n",
    "\n",
    "    return mean, variance\n"
   ]
  },
  {
   "cell_type": "code",
   "execution_count": null,
   "id": "a68910c2-6967-4459-a59b-e7133e629ab7",
   "metadata": {},
   "outputs": [],
   "source": [
    "#7\n",
    "'''\n",
    "H0: The variances are equal.\n",
    "H1: The variances are not equal.\n",
    "\n",
    "f(0.1,9) = 0.321\n",
    "f(0.1,14) = 3.078\n",
    "\n",
    "F = s1^2 / s2^2\n",
    "F = 25 / 20\n",
    "F = 1.25\n",
    "\n",
    " 0.321 < 1.25 < 3.078\n",
    " fail to reject null hypothesis\n",
    "'''"
   ]
  },
  {
   "cell_type": "code",
   "execution_count": null,
   "id": "d1c30d07-0a79-4db4-b824-241b003f471c",
   "metadata": {},
   "outputs": [],
   "source": [
    "#8\n",
    "'''\n",
    "H0: The variances of the two populations are equal.\n",
    "H1: The variances of the two populations are not equal.\n",
    "\n",
    "F = s1^2 / s2^2\n",
    "F = 6.857 / 4.667 \n",
    "F = 1.47\n",
    "\n",
    "df1 = n1 - 1 = 6\n",
    "df2 = n2 - 1 = 5\n",
    "\n",
    "f(0.05,6,5) = 5.14\n",
    "\n",
    "1.47<5.14\n",
    "fail to reject H0\n",
    "'''"
   ]
  },
  {
   "cell_type": "code",
   "execution_count": null,
   "id": "a8dd356c-408c-4a6e-ac66-0a497ddc0e88",
   "metadata": {},
   "outputs": [],
   "source": [
    "#9\n",
    "Sample variance of Group A = 25.6\n",
    "Sample variance of Group B = 4.8\n",
    "\n",
    "F = Sample variance of Group A / Sample variance of Group B\n",
    "F = 25.6 / 4.8 \n",
    "F = 5.33\n",
    "\n",
    "dfA = n(A) -1 = 5\n",
    "dfB = n(B) -1 = 5\n",
    "\n",
    "f(0.01,5,5) = 10.13\n",
    "\n",
    "5.33<10.13\n",
    "fail to reject H0"
   ]
  }
 ],
 "metadata": {
  "kernelspec": {
   "display_name": "Python 3 (ipykernel)",
   "language": "python",
   "name": "python3"
  },
  "language_info": {
   "codemirror_mode": {
    "name": "ipython",
    "version": 3
   },
   "file_extension": ".py",
   "mimetype": "text/x-python",
   "name": "python",
   "nbconvert_exporter": "python",
   "pygments_lexer": "ipython3",
   "version": "3.10.8"
  }
 },
 "nbformat": 4,
 "nbformat_minor": 5
}
