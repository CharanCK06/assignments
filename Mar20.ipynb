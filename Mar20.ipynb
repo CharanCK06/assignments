{
 "cells": [
  {
   "cell_type": "code",
   "execution_count": null,
   "id": "39847020-b943-45dc-947b-1af80b464feb",
   "metadata": {},
   "outputs": [],
   "source": [
    "#1\n",
    "'''\n",
    "Data Encoding:\n",
    "                Data Encoding is the process of converting Categorical values into numerical values.\n",
    "\n",
    "In DataScience, it is most useful feature because the algorithms doesnot understand the categorical values.Inorder\n",
    "to make it understand dataencoding is performed.\n",
    "'''"
   ]
  },
  {
   "cell_type": "code",
   "execution_count": null,
   "id": "3867695a-75c8-4d6b-a0af-db75e5d42d56",
   "metadata": {},
   "outputs": [],
   "source": [
    "#2\n",
    "'''\n",
    "Nominal Encoding (Label Encoding):\n",
    "Nominal encoding assigns a unique numerical label to each category in a categorical variable. \n",
    "It replaces the categories with integers starting from 0 to (number of categories - 1).\n",
    "\n",
    "Example:\n",
    "Categories: \"Red,\" \"Blue,\" \"Green\"\n",
    "Nominal Encoding: 0, 1, 2\n",
    "'''"
   ]
  },
  {
   "cell_type": "code",
   "execution_count": null,
   "id": "ccaec25d-ed29-46dd-88fe-320bd6d97879",
   "metadata": {},
   "outputs": [],
   "source": [
    "#3\n",
    "'''\n",
    "Nominal Encoding (Label Encoding) is suitable when the categorical variable has no inherent order or hierarchy,\n",
    "and the number of categories is relatively large.\n",
    "\n",
    "One-Hot Encoding is suitable when the categorical variable has no inherent order, and the number of categories\n",
    "is relatively small. It allows the model to understand the categorical nature of the variable without assuming\n",
    "any ordinality.\n",
    "Categories: \"Red,\" \"Blue,\" \"Green\"\n",
    "One-Hot Encoding:\n",
    "\n",
    "R   G   B\n",
    "1\t0\t0\n",
    "0\t1\t0\n",
    "0\t0\t1\n",
    "'''"
   ]
  },
  {
   "cell_type": "code",
   "execution_count": null,
   "id": "ccbd4367-4604-48c3-b540-51a90467ec39",
   "metadata": {},
   "outputs": [],
   "source": [
    "#4\n",
    "'''\n",
    " One-hot encoding\n",
    " It allows the machine learning algorithms to understand the categorical nature of the variable without assuming\n",
    " any ordinality or magnitude.\n",
    " '''"
   ]
  },
  {
   "cell_type": "code",
   "execution_count": null,
   "id": "f9209b2e-35a6-4f93-a620-492dcd7e90e2",
   "metadata": {},
   "outputs": [],
   "source": [
    "#5\n",
    "'''\n",
    "If you were to use nominal encoding to transform the two categorical columns in the dataset, the number of new \n",
    "columns created would depend on the number of unique categories in each column.\n",
    "\n",
    "Let's assume the first categorical column has 4 unique categories, and the second categorical column has \n",
    "6 unique categories.\n",
    "\n",
    "For the first categorical column with 4 unique categories, nominal encoding would create 4 new columns.\n",
    "Each column represents one category, and a binary value of 1 or 0 indicates the presence or absence of that \n",
    "category.\n",
    "\n",
    "For the second categorical column with 6 unique categories, nominal encoding would create 6 new columns, \n",
    "following the same logic.\n",
    "\n",
    "Therefore, the total number of new columns created through nominal encoding would be the sum of the new columns\n",
    "created for each categorical column, which is:\n",
    "\n",
    "Number of new columns = Number of new columns for categorical column 1 + Number of new columns for categorical \n",
    "column 2\n",
    "= 4 + 6\n",
    "= 10\n",
    "\n",
    "Hence, using nominal encoding in this scenario would create a total of 10 new columns.\n",
    "'''"
   ]
  },
  {
   "cell_type": "code",
   "execution_count": null,
   "id": "1e13fc26-a203-471d-af0b-51f2e2877599",
   "metadata": {},
   "outputs": [],
   "source": [
    "#6\n",
    "'''\n",
    "Either OneHot encoding or Label encoding\n",
    "'''"
   ]
  },
  {
   "cell_type": "code",
   "execution_count": null,
   "id": "f9a1e510-54a5-42c1-8f1d-7ca5590d2297",
   "metadata": {},
   "outputs": [],
   "source": [
    "#7\n",
    "'''\n",
    "Here's a step-by-step explanation of how we can implement the encoding:\n",
    "\n",
    "Identify the categorical variables: In this case, the categorical variable is the \"contract type\" which \n",
    "represents different types of contracts.\n",
    "\n",
    "Apply label encoding: Since the \"contract type\" variable is ordinal (it has an inherent order or hierarchy), \n",
    "we can use label encoding to assign numerical labels to the categories. \n",
    "For example, we can encode \"Month-to-month\" as 0, \"One year\" as 1, and \"Two year\" as 2.\n",
    "\n",
    "Identify the remaining categorical variables: In this case, there are no other categorical variables. \n",
    "All other features (gender) and numerical variables (age, monthly charges, tenure) do not require encoding.\n",
    "\n",
    "Perform one-hot encoding (if needed): If there were additional categorical variables (e.g., \"customer gender\")\n",
    "with non-ordinal categories, we would apply one-hot encoding. This technique creates binary features for each \n",
    "category, representing the presence or absence of that category for each observation.\n",
    "'''"
   ]
  }
 ],
 "metadata": {
  "kernelspec": {
   "display_name": "Python 3 (ipykernel)",
   "language": "python",
   "name": "python3"
  },
  "language_info": {
   "codemirror_mode": {
    "name": "ipython",
    "version": 3
   },
   "file_extension": ".py",
   "mimetype": "text/x-python",
   "name": "python",
   "nbconvert_exporter": "python",
   "pygments_lexer": "ipython3",
   "version": "3.10.8"
  }
 },
 "nbformat": 4,
 "nbformat_minor": 5
}
