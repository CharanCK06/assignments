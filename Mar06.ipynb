{
 "cells": [
  {
   "cell_type": "code",
   "execution_count": null,
   "id": "fb192928-6b77-4bd0-82c9-6b3fc98afecd",
   "metadata": {},
   "outputs": [],
   "source": [
    "#1\n",
    "Statistics is the science of collecting,organising and analysing data."
   ]
  },
  {
   "cell_type": "code",
   "execution_count": null,
   "id": "77a320c9-2dd2-4efd-b7a4-e50f05f277b8",
   "metadata": {},
   "outputs": [],
   "source": [
    "#2\n",
    "There are 2 types of statistics:\n",
    "i. Descriptive statistics\n",
    "ii. Inferential statistics\n",
    "\n",
    "-Descriptive:\n",
    "    It consists of organising and summarising the data\n",
    "    example: Measure of Central Tendency\n",
    "            Measure of Dispension\n",
    "-Inferential:\n",
    "    It consists of using data you have measured to form conclusion"
   ]
  },
  {
   "cell_type": "code",
   "execution_count": null,
   "id": "b1618827-5e79-4b95-9b71-8571da12f725",
   "metadata": {},
   "outputs": [],
   "source": [
    "#3\n",
    "Data is mainly classified into 2 types:\n",
    "i. Qunatitative:\n",
    "    All the numerical data comes under quantitative.\n",
    "    It is again classified into 2 types:\n",
    "    a.Discrete:\n",
    "        The values which are whole numbers comes under discrete\n",
    "        ex:no.of.votes\n",
    "    b.Continuous:\n",
    "        Any values i.e decimal numbers integers etc.\n",
    "        ex:heights of the student\n",
    "ii.Qualitative:\n",
    "    All the categorical data comes under qualitative.\n",
    "    It is again classified into 2 types:\n",
    "    a.Nominal\n",
    "        fixed set of values of category.\n",
    "        ex:gender\n",
    "    b.ordinal\n",
    "        ranking of value\n",
    "        ex:good bad satifactory"
   ]
  },
  {
   "cell_type": "code",
   "execution_count": null,
   "id": "19843f32-1c1e-4b6e-811f-21ed9af1585f",
   "metadata": {},
   "outputs": [],
   "source": [
    "#4\n",
    "Categorise the following datasets with respect to quantitative and qualitative data types:\n",
    "(i) Grading in exam: A+, A, B+, B, C+, C, D, E - Qualitative(ordinal)\n",
    "(ii) Colour of mangoes: yellow, green, orange, red - Qualitative(nominal)\n",
    "(iii) Height data of a class: [178.9, 179, 179.5, 176, 177.2, 178.3, 175.8,...] - Quantitative(Discrete)\n",
    "(iv) Number of mangoes exported by a farm: [500, 600, 478, 672, ...] - Quantitative(Continuous)"
   ]
  },
  {
   "cell_type": "code",
   "execution_count": null,
   "id": "a89097f8-d80a-42fc-90a0-2f5a38e35a98",
   "metadata": {},
   "outputs": [],
   "source": [
    "#5\n",
    "there are 4 levels of measurement:\n",
    "i.Nominal scale data:\n",
    "    - categorical\n",
    "    - order is not required\n",
    "    Ex: Gender\n",
    "ii.Ordinal Scale data:\n",
    "    - order and rank are required\n",
    "    - no difference is measured\n",
    "    Ex: class student ranking\n",
    "iii.Interval Scale data:\n",
    "    - rank and order matters\n",
    "    - difference is measured\n",
    "    - ratio is not measured\n",
    "    - no zero start value\n",
    "    Ex: Temperature either negative ,0 or positive.\n",
    "iv.Ratio Scale data:\n",
    "    - rank and order matters\n",
    "    - difference and ratio is measured\n",
    "    - has a zero start value\n",
    "    Ex:Distance,Speed,Time"
   ]
  },
  {
   "cell_type": "code",
   "execution_count": null,
   "id": "7a27c901-706f-47b3-98dd-3ed914e2f9ad",
   "metadata": {},
   "outputs": [],
   "source": [
    "#6\n",
    "It is important to understand the level of measurement when analyzing data because same technique cannot be\n",
    "used to inorder to get the outcome from different kinds of data.Each kind of dataset has a unique technique\n",
    "when applied we get desired outcome."
   ]
  },
  {
   "cell_type": "code",
   "execution_count": null,
   "id": "8f01f72c-6706-4dd6-bb5c-e265a072d72c",
   "metadata": {},
   "outputs": [],
   "source": [
    "#7\n",
    "    a.Nominal\n",
    "        fixed set of values of category.\n",
    "        ex:gender\n",
    "    b.ordinal\n",
    "        ranking of value\n",
    "        ex:good bad satifactory"
   ]
  },
  {
   "cell_type": "code",
   "execution_count": null,
   "id": "3ce4d78f-19fc-47de-b2dd-5c3252fd7a60",
   "metadata": {},
   "outputs": [],
   "source": [
    "#8\n",
    "Box plot"
   ]
  },
  {
   "cell_type": "code",
   "execution_count": null,
   "id": "9c47cad8-79bd-4623-8e2c-4cb43abfa8ab",
   "metadata": {},
   "outputs": [],
   "source": [
    "#9\n",
    "-Descriptive:\n",
    "    *It consists of organising and summarising the data\n",
    "    example: Measure of Central Tendency\n",
    "            Measure of Dispension\n",
    "    * Avg of values , frequency of values etc those kind of outcomes can be expected from the data\n",
    "\n",
    "-Inferential:\n",
    "    *It consists of using data you have measured to form conclusion\n",
    "    *With the outcomes from the survey of 10 members,we try to predict the outcome of 100 members."
   ]
  },
  {
   "cell_type": "code",
   "execution_count": null,
   "id": "866146b1-554a-4a36-a2d8-a06b9580e524",
   "metadata": {},
   "outputs": [],
   "source": [
    "#10\n",
    "measures of central tendency\n",
    "i.mean - typical value in the dataset\n",
    "ii.median - middle value in the dataset when arranged in ascending order\n",
    "iii.mode - most common element of the dataset(element with high frequency)\n",
    "\n",
    "measures of variability\n",
    "i.range - difference between highest and lowest value in the dataset\n",
    "ii.Interquartile range(IQR) - difference between 75 and 25th percentile of the dataset\n",
    "iii.Standard Deviation - typical distance of values from the mean. "
   ]
  }
 ],
 "metadata": {
  "kernelspec": {
   "display_name": "Python 3 (ipykernel)",
   "language": "python",
   "name": "python3"
  },
  "language_info": {
   "codemirror_mode": {
    "name": "ipython",
    "version": 3
   },
   "file_extension": ".py",
   "mimetype": "text/x-python",
   "name": "python",
   "nbconvert_exporter": "python",
   "pygments_lexer": "ipython3",
   "version": "3.10.8"
  }
 },
 "nbformat": 4,
 "nbformat_minor": 5
}
