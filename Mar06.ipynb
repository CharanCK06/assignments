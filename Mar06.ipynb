{
 "cells": [
  {
   "cell_type": "raw",
   "id": "f3203343-50d1-49b3-8dc1-3e164b0d934d",
   "metadata": {},
   "source": [
    "#1\n",
    "Statistics is the science of collecting,organising and analysing data."
   ]
  },
  {
   "cell_type": "raw",
   "id": "3dc9b913-1f6b-4ab2-bf41-20fb0c5fcac8",
   "metadata": {},
   "source": [
    "#2\n",
    "There are 2 types of statistics:\n",
    "i. Descriptive statistics\n",
    "ii. Inferential statistics\n",
    "\n",
    "-Descriptive:\n",
    "    It consists of organising and summarising the data\n",
    "    example: Measure of Central Tendency\n",
    "            Measure of Dispension\n",
    "-Inferential:\n",
    "    It consists of using data you have measured to form conclusion"
   ]
  },
  {
   "cell_type": "raw",
   "id": "e70299fe-95f8-4e07-8265-b564d690673b",
   "metadata": {},
   "source": [
    "#3\n",
    "Data is mainly classified into 2 types:\n",
    "i. Qunatitative:\n",
    "    All the numerical data comes under quantitative.\n",
    "    It is again classified into 2 types:\n",
    "    a.Discrete:\n",
    "        The values which are whole numbers comes under discrete\n",
    "        ex:no.of.votes\n",
    "    b.Continuous:\n",
    "        Any values i.e decimal numbers integers etc.\n",
    "        ex:heights of the student\n",
    "ii.Qualitative:\n",
    "    All the categorical data comes under qualitative.\n",
    "    It is again classified into 2 types:\n",
    "    a.Nominal\n",
    "        fixed set of values of category.\n",
    "        ex:gender\n",
    "    b.ordinal\n",
    "        ranking of value\n",
    "        ex:good bad satifactory"
   ]
  },
  {
   "cell_type": "raw",
   "id": "8517caa2-df7a-4899-b135-3572e6bc5641",
   "metadata": {},
   "source": [
    "#4\n",
    "Categorise the following datasets with respect to quantitative and qualitative data types:\n",
    "(i) Grading in exam: A+, A, B+, B, C+, C, D, E - Qualitative(ordinal)\n",
    "(ii) Colour of mangoes: yellow, green, orange, red - Qualitative(nominal)\n",
    "(iii) Height data of a class: [178.9, 179, 179.5, 176, 177.2, 178.3, 175.8,...] - Quantitative(Discrete)\n",
    "(iv) Number of mangoes exported by a farm: [500, 600, 478, 672, ...] - Quantitative(Continuous)"
   ]
  },
  {
   "cell_type": "raw",
   "id": "eff5daa8-91ac-40f2-abf7-640f21428c86",
   "metadata": {},
   "source": [
    "#5\n",
    "there are 4 levels of measurement:\n",
    "i.Nominal scale data:\n",
    "    - categorical\n",
    "    - order is not required\n",
    "    Ex: Gender\n",
    "ii.Ordinal Scale data:\n",
    "    - order and rank are required\n",
    "    - no difference is measured\n",
    "    Ex: class student ranking\n",
    "iii.Interval Scale data:\n",
    "    - rank and order matters\n",
    "    - difference is measured\n",
    "    - ratio is not measured\n",
    "    - no zero start value\n",
    "    Ex: Temperature either negative ,0 or positive.\n",
    "iv.Ratio Scale data:\n",
    "    - rank and order matters\n",
    "    - difference and ratio is measured\n",
    "    - has a zero start value\n",
    "    Ex:Distance,Speed,Time"
   ]
  },
  {
   "cell_type": "raw",
   "id": "cb72270a-d60b-4923-ae2d-48968d683a3d",
   "metadata": {},
   "source": [
    "#6\n",
    "It is important to understand the level of measurement when analyzing data because same technique cannot be\n",
    "used to inorder to get the outcome from different kinds of data.Each kind of dataset has a unique technique\n",
    "when applied we get desired outcome."
   ]
  },
  {
   "cell_type": "raw",
   "id": "8b54d159-23e7-4bbf-8e09-169db2a652f0",
   "metadata": {},
   "source": [
    "#7\n",
    "    a.Nominal\n",
    "        fixed set of values of category.\n",
    "        ex:gender\n",
    "    b.ordinal\n",
    "        ranking of value\n",
    "        ex:good bad satifactory"
   ]
  },
  {
   "cell_type": "raw",
   "id": "4d2ca996-e9ec-4cea-b176-a3704ec0e3c5",
   "metadata": {},
   "source": [
    "#8\n",
    "Box plot"
   ]
  },
  {
   "cell_type": "raw",
   "id": "265b8929-da58-48cc-b88f-9397c859f9df",
   "metadata": {},
   "source": [
    "#9\n",
    "-Descriptive:\n",
    "    *It consists of organising and summarising the data\n",
    "    example: Measure of Central Tendency\n",
    "            Measure of Dispension\n",
    "    * Avg of values , frequency of values etc those kind of outcomes can be expected from the data\n",
    "\n",
    "-Inferential:\n",
    "    *It consists of using data you have measured to form conclusion\n",
    "    *With the outcomes from the survey of 10 members,we try to predict the outcome of 100 members."
   ]
  },
  {
   "cell_type": "raw",
   "id": "169912fe-dbe5-4875-8f16-4b9a17ef7e12",
   "metadata": {},
   "source": [
    "#10\n",
    "measures of central tendency\n",
    "i.mean - typical value in the dataset\n",
    "ii.median - middle value in the dataset when arranged in ascending order\n",
    "iii.mode - most common element of the dataset(element with high frequency)\n",
    "\n",
    "measures of variability\n",
    "i.range - difference between highest and lowest value in the dataset\n",
    "ii.Interquartile range(IQR) - difference between 75 and 25th percentile of the dataset\n",
    "iii.Standard Deviation - typical distance of values from the mean. "
   ]
  }
 ],
 "metadata": {
  "kernelspec": {
   "display_name": "Python 3 (ipykernel)",
   "language": "python",
   "name": "python3"
  },
  "language_info": {
   "codemirror_mode": {
    "name": "ipython",
    "version": 3
   },
   "file_extension": ".py",
   "mimetype": "text/x-python",
   "name": "python",
   "nbconvert_exporter": "python",
   "pygments_lexer": "ipython3",
   "version": "3.10.8"
  }
 },
 "nbformat": 4,
 "nbformat_minor": 5
}
