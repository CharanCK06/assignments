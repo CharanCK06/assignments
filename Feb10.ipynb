{
 "cells": [
  {
   "cell_type": "markdown",
   "id": "0ae5b238-1dff-45f0-b272-8fc946ef5182",
   "metadata": {},
   "source": [
    "#1\n",
    "- open(filename,mode) is used to open a file\n",
    "- different file opening modes\n",
    "    * r - reading the file\n",
    "    * w - writing a file(erases data if the file has data in it)\n",
    "    * a - open amd write(appends data if the file has data in it)\n",
    "    * b - binary mode\n",
    "    * t - text mode\n",
    "    * + - reading and writing(updating)"
   ]
  },
  {
   "cell_type": "markdown",
   "id": "07a35c32-45e8-4245-9678-c460a9f30d3e",
   "metadata": {},
   "source": [
    "#2\n",
    "- close() function is used to close the file.\n",
    "- it is important to close the file beacause without closing the operations done in the file doesnot get saved "
   ]
  },
  {
   "cell_type": "code",
   "execution_count": 3,
   "id": "462c133b-eeaa-4e6f-859b-788e9dceb68b",
   "metadata": {},
   "outputs": [],
   "source": [
    "#3\n",
    "f = open(\"feb10.txt\",'w')\n",
    "f.write('I want to become a Data Scientist')\n",
    "f.close()"
   ]
  },
  {
   "cell_type": "code",
   "execution_count": 4,
   "id": "ca1d8d97-db4b-41a4-840a-967844f21b86",
   "metadata": {},
   "outputs": [
    {
     "data": {
      "text/plain": [
       "'I want to become a Data Scientist'"
      ]
     },
     "execution_count": 4,
     "metadata": {},
     "output_type": "execute_result"
    }
   ],
   "source": [
    "r = open(\"feb10.txt\",'r')\n",
    "r.read()"
   ]
  },
  {
   "cell_type": "code",
   "execution_count": 9,
   "id": "812e4a9a-9ed0-4c71-a35c-2f52440cf33b",
   "metadata": {},
   "outputs": [
    {
     "name": "stdout",
     "output_type": "stream",
     "text": [
      "-----read() example-----\n",
      "Physics Wallah is an Indian educational technology company headquartered in Noida, India.\n",
      "Founded: 2016\n",
      "Founders: Alakh Pandey & Prateek Maheshwari\n",
      "Headquarters: A-13/5, SECTOR-62, Noida Gautam Buddha Nagar, Noida, Uttar Pradesh, India\n",
      "-----readline() example-----\n",
      "Physics Wallah is an Indian educational technology company headquartered in Noida, India.\n",
      "\n",
      "-----readlines() example-----\n",
      "['Founded: 2016\\n', 'Founders: Alakh Pandey & Prateek Maheshwari\\n', 'Headquarters: A-13/5, SECTOR-62, Noida Gautam Buddha Nagar, Noida, Uttar Pradesh, India']\n"
     ]
    }
   ],
   "source": [
    "#4\n",
    "#read() - reads the whole contents of the file or n bytes from the file\n",
    "with open(\"test1.txt\",'r') as f:\n",
    "    print(\"-----read() example-----\")\n",
    "    print(f.read())\n",
    "    f.seek(0)\n",
    "#readline() - reads a single line or reads n bytes from single line of the file\n",
    "    print(\"-----readline() example-----\")\n",
    "    print(f.readline())\n",
    "#readlines() - reads lines and returns lines in the form of list\n",
    "    print(\"-----readlines() example-----\")\n",
    "    print(f.readlines())"
   ]
  },
  {
   "cell_type": "code",
   "execution_count": null,
   "id": "e213f7f1-8afc-4564-9cb1-34323cd93397",
   "metadata": {},
   "outputs": [],
   "source": [
    "#5\n",
    "'''\n",
    "- with statement is to open a file using the open() function, which allows us to read or write data to and from the file.\n",
    "- advantage of using with statement and open() together is that it automatically takes care of closing the file after the block of code is executed.\n",
    "'''"
   ]
  },
  {
   "cell_type": "code",
   "execution_count": 22,
   "id": "f28831d1-91ca-402e-bbe9-9d1c816e69b2",
   "metadata": {},
   "outputs": [],
   "source": [
    "#6\n",
    "#write() - wites the text into the opened file\n",
    "lst = ['Founded: 2016\\n', 'Founders: Alakh Pandey & Prateek Maheshwari\\n', 'Headquarters: A-13/5, SECTOR-62, Noida Gautam Buddha Nagar, Noida, Uttar Pradesh, India']\n",
    "with open(\"test2.txt\",'r+') as f:\n",
    "    f.write(\"Physics Wallah is an Indian educational technology company headquartered in Noida, India.\")\n",
    "#writelines - writes content of list into file\n",
    "    f.writelines(lst)"
   ]
  },
  {
   "cell_type": "code",
   "execution_count": null,
   "id": "52e0fa94-4e4c-4137-94f3-849c4afed387",
   "metadata": {},
   "outputs": [],
   "source": []
  },
  {
   "cell_type": "code",
   "execution_count": null,
   "id": "be77968f-5c28-4e25-8940-36789bae9e2b",
   "metadata": {},
   "outputs": [],
   "source": []
  }
 ],
 "metadata": {
  "kernelspec": {
   "display_name": "Python 3 (ipykernel)",
   "language": "python",
   "name": "python3"
  },
  "language_info": {
   "codemirror_mode": {
    "name": "ipython",
    "version": 3
   },
   "file_extension": ".py",
   "mimetype": "text/x-python",
   "name": "python",
   "nbconvert_exporter": "python",
   "pygments_lexer": "ipython3",
   "version": "3.10.8"
  }
 },
 "nbformat": 4,
 "nbformat_minor": 5
}
