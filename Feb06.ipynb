{
 "cells": [
  {
   "cell_type": "code",
   "execution_count": 18,
   "id": "2d02df4b-b799-4882-9c84-641e25cb3105",
   "metadata": {},
   "outputs": [
    {
     "name": "stdout",
     "output_type": "stream",
     "text": [
      "4134711838987085478833841242112000\n"
     ]
    }
   ],
   "source": [
    "#1\n",
    "def flat_list(l):\n",
    "    for i in l:\n",
    "        if type(i)==int:\n",
    "            fl.append(i)\n",
    "        elif type(i)==list:\n",
    "            flat_list(i)\n",
    "        elif type(i)==tuple:\n",
    "            flat_list(i)\n",
    "        elif type(i)==set:\n",
    "            flat_list(i)\n",
    "        elif type(i)==dict:\n",
    "            for key,value in i.items():\n",
    "                if  type(key)==int:\n",
    "                    fl.append(key)\n",
    "                if type(value)==int:\n",
    "                    fl.append(value)\n",
    "                elif type(value)==list or type(value)==tuple:\n",
    "                    flat_list(value)\n",
    "    return fl\n",
    "def product_list(l):\n",
    "    prod = 1\n",
    "    for i in flat_list(l):\n",
    "        prod *= i\n",
    "    return prod\n",
    "l = [1,2,3,4,[44,55,66, True],False,(34,56,78,89,34),{1,2,3,3,2,1},{1:34, \"key2\": [55, 67, 78, 89], 4: (45,\n",
    "22, 61, 34)}, [56, 'data science'], 'Machine Learning']\n",
    "fl = []\n",
    "print(product_list(l))\n",
    "        \n"
   ]
  },
  {
   "cell_type": "code",
   "execution_count": 36,
   "id": "7428f049-f271-4e98-ac3e-2dd473e0ce9b",
   "metadata": {},
   "outputs": [
    {
     "name": "stdin",
     "output_type": "stream",
     "text": [
      "Input Sentence:  I want to become a Data Scientist\n"
     ]
    },
    {
     "name": "stdout",
     "output_type": "stream",
     "text": [
      "r$dzmg$gl$yvxlnv$z$wzgz$hxrvmgrhg\n"
     ]
    }
   ],
   "source": [
    "#2\n",
    "import string\n",
    "statement = input(\"Input Sentence: \")\n",
    "statement = statement.lower()\n",
    "encrypt = \"\"\n",
    "alpha = []\n",
    "for i in list(string.ascii_letters):\n",
    "    if i.islower():\n",
    "        alpha.append(i)\n",
    "rev_alpha = alpha[::-1]\n",
    "for i in statement:\n",
    "    if i == ' ':\n",
    "        encrypt += '$'\n",
    "    else:\n",
    "         ind = alpha.index(i)\n",
    "         encrypt += rev_alpha[ind]\n",
    "print(encrypt)\n"
   ]
  },
  {
   "cell_type": "code",
   "execution_count": null,
   "id": "dbd7a139-c5eb-4f80-9e90-dd7ac45bfc6f",
   "metadata": {},
   "outputs": [],
   "source": []
  },
  {
   "cell_type": "code",
   "execution_count": null,
   "id": "14357648-bf62-4dfe-b86d-f26f8e61e7e8",
   "metadata": {},
   "outputs": [],
   "source": []
  }
 ],
 "metadata": {
  "kernelspec": {
   "display_name": "Python 3 (ipykernel)",
   "language": "python",
   "name": "python3"
  },
  "language_info": {
   "codemirror_mode": {
    "name": "ipython",
    "version": 3
   },
   "file_extension": ".py",
   "mimetype": "text/x-python",
   "name": "python",
   "nbconvert_exporter": "python",
   "pygments_lexer": "ipython3",
   "version": "3.10.8"
  }
 },
 "nbformat": 4,
 "nbformat_minor": 5
}
