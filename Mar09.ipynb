{
 "cells": [
  {
   "cell_type": "code",
   "execution_count": null,
   "id": "e4dc9b08-05c8-405c-9a45-bfcff6415f80",
   "metadata": {},
   "outputs": [],
   "source": [
    "#1\n",
    "'''\n",
    "PMF:\n",
    "-A Probability Mass Function (PMF) is a function that gives the probability that a discrete random variable takes on a specific value. \n",
    "-It maps each possible value of the random variable to its probability of occurrence.\n",
    "-The sum of all the probabilities in the PMF is always equal to 1.\n",
    "\n",
    "PDF:\n",
    "-A Probability Density Function (PDF) is a function that gives the probability of a continuous random variable taking on a specific value or\n",
    " range of values. \n",
    "-PDF is applicable to continuous random variables. \n",
    "-The area under the PDF curve over a given interval represents the probability of the random variable taking on a value in that interval.\n",
    "'''"
   ]
  },
  {
   "cell_type": "code",
   "execution_count": null,
   "id": "2630f2ce-ae21-47db-b613-22f296c12c8b",
   "metadata": {},
   "outputs": [],
   "source": [
    "#2\n",
    "'''\n",
    "A Cumulative Density Function (CDF) is a function that gives the probability that a random variable takes on a value less than or equal to a \n",
    "certain value. It is also sometimes called the Cumulative Distribution Function.\n",
    "\n",
    "The CDF is defined for both discrete and continuous random variables:\n",
    "- For a discrete random variable, the CDF is the sum of the probabilities of all values less than or equal to the given value.\n",
    "- For a continuous random variable, the CDF is the area under the PDF curve up to the given value.\n",
    "'''"
   ]
  },
  {
   "cell_type": "code",
   "execution_count": null,
   "id": "f485460f-8e86-445b-8a1c-f9130e8eccac",
   "metadata": {},
   "outputs": [],
   "source": [
    "#3\n",
    "'''\n",
    "It is often used as a model for situations where the data is expected to be symmetrically distributed around a central value, with most of the\n",
    "values clustered near the center and fewer values further away from it.\n",
    " \n",
    "The normal distribution is characterized by two parameters: the mean and the standard deviation. The mean is the central value around which the \n",
    "data is symmetrically distributed, while the standard deviation is a measure of the spread of the data around the mean.\n",
    "\n",
    "If we know the mean and standard deviation of a normally distributed variable, we can calculate the probability of observing a value within one, \n",
    "two, or three standard deviations of the mean using the empirical rule. The empirical rule states that for a normal distribution, approximately\n",
    "68% of the data falls within one standard deviation of the mean, 95% of the data falls within two standard deviations of the mean, and 99.7% of \n",
    "the data falls within three standard deviations of the mean.\n",
    "\n",
    "Examples:\n",
    "-heights and weights\n",
    "-exam scores\n",
    "-finance\n",
    "'''\n"
   ]
  },
  {
   "cell_type": "code",
   "execution_count": null,
   "id": "b54bafc8-2e59-4867-818b-b994ff2373e3",
   "metadata": {},
   "outputs": [],
   "source": [
    "#4\n",
    "'''\n",
    "Normal Distribution It is a continuous probability distribution that is symmetric and bell-shaped, and it has a well-defined mean and standard \n",
    "deviation. It is important because it is widely used in many fields of study to model a wide range of phenomena and to make statistical inferences\n",
    "about populations based on samples.\n",
    "\n",
    "Examples:\n",
    "-heights and weights\n",
    "-exam scores\n",
    "-finance\n",
    "'''"
   ]
  },
  {
   "cell_type": "code",
   "execution_count": null,
   "id": "148d63e5-5cde-4111-aff1-ef3761835bc4",
   "metadata": {},
   "outputs": [],
   "source": [
    "#5\n",
    "'''\n",
    "The Bernoulli distribution is a probability distribution that models a random experiment with only two possible outcomes, usually labeled as:\n",
    "- success (with probability p)\n",
    "- failure (with probability q = 1-p).\n",
    "\n",
    "The Bernoulli distribution is a special case of the binomial distribution, where the number of trials (n) is 1.\n",
    "\n",
    "Examples:\n",
    "-Flipping a coin, where the outcome can either be heads (success) or tails (failure). \n",
    "-Rolling a dice, where the outcome can be a specific number (success) or any other number (failure).\n",
    "'''"
   ]
  },
  {
   "cell_type": "code",
   "execution_count": null,
   "id": "76972f59-088b-4fb5-8864-b1413e11ab60",
   "metadata": {},
   "outputs": [],
   "source": [
    "#6\n",
    "'''\n",
    "z = (60 - 50) / 10\n",
    "z = 1\n",
    "\n",
    "0.1587 x 100\n",
    "= 15.87%\n",
    "'''"
   ]
  },
  {
   "cell_type": "code",
   "execution_count": null,
   "id": "7e28b388-bb12-4ee0-8394-1887793ba1fc",
   "metadata": {},
   "outputs": [],
   "source": [
    "#7\n",
    "'''\n",
    "The uniform distribution is a continuous probability distribution where all values within a given interval are equally likely to occur. \n",
    "The probability density function (PDF) is constant over the entire interval and zero outside of it.\n",
    "'''"
   ]
  },
  {
   "cell_type": "code",
   "execution_count": null,
   "id": "c0b6c2c6-0f39-4868-a8e2-7187fa31fcc4",
   "metadata": {},
   "outputs": [],
   "source": [
    "#8\n",
    "'''\n",
    "The z-score, also known as the standard score, is a measure of how many standard deviations an observation or data point is above or below\n",
    "the mean of a distribution.\n",
    "\n",
    "z = (x - μ) / σ\n",
    "\n",
    "z - z-score\n",
    "x - observation or data point\n",
    "μ - mean\n",
    "σ - standard deviation\n",
    "'''"
   ]
  },
  {
   "cell_type": "code",
   "execution_count": null,
   "id": "b6bde089-fa72-4ebe-a238-5fed4382d3db",
   "metadata": {},
   "outputs": [],
   "source": [
    "#9\n",
    "'''\n",
    "The Central Limit Theorem  allows us to make valid inferences about the population mean and standard deviation from a sample of data,\n",
    "even when we do not know the underlying distribution of the population.\n",
    "'''\n"
   ]
  },
  {
   "cell_type": "code",
   "execution_count": null,
   "id": "5b2029f5-b787-4909-b3be-0df5b6e739bc",
   "metadata": {},
   "outputs": [],
   "source": [
    "#10\n",
    "'''\n",
    "Independence: The sample observations are independent of each other. That is, the value of one observation does not affect the value \n",
    "of another observation.\n",
    "\n",
    "Sample Size: The sample size should be sufficiently large. Although there is no strict rule for sample size, a commonly accepted rule\n",
    "of thumb is that the sample size should be at least 30.\n",
    "\n",
    "Population Distribution: The population distribution can be any distribution, but it should have a finite mean (μ) and a finite variance (σ^2). \n",
    "In practice, if the population distribution is extremely skewed or has heavy tails, a larger sample size may be required for the CLT to hold.\n",
    "\n",
    "Sampling: The sampling method should be random. This means that each observation in the population has an equal chance of being selected for \n",
    "the sample.\n",
    "'''"
   ]
  }
 ],
 "metadata": {
  "kernelspec": {
   "display_name": "Python 3 (ipykernel)",
   "language": "python",
   "name": "python3"
  },
  "language_info": {
   "codemirror_mode": {
    "name": "ipython",
    "version": 3
   },
   "file_extension": ".py",
   "mimetype": "text/x-python",
   "name": "python",
   "nbconvert_exporter": "python",
   "pygments_lexer": "ipython3",
   "version": "3.10.8"
  }
 },
 "nbformat": 4,
 "nbformat_minor": 5
}
