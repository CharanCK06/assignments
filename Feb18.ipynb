{
 "cells": [
  {
   "cell_type": "markdown",
   "id": "20563896-4267-43d0-8bc0-96556cfe5371",
   "metadata": {},
   "source": [
    "# 1.\n",
    "API stands for Application Programming Interface, which is a set of protocols, routines, and tools for building software applications.\n",
    "\n",
    "An example of where an API is used in real life is in social media platforms like Facebook or Twitter."
   ]
  },
  {
   "cell_type": "markdown",
   "id": "fa7d440a-4ad2-47db-aaa8-72fd5b63ab6e",
   "metadata": {},
   "source": [
    "# 2.\n",
    "Advantages:\n",
    "\n",
    "- Integration\n",
    "- Improved Efficiency\n",
    "- Scalability\n",
    "- Faster Development\n",
    "- Enhanced Security\n",
    "\n",
    "Disadvantages:\n",
    "- Dependency\n",
    "- Lack of Control\n",
    "- Complexity\n",
    "- Changes in API\n",
    "- Integration Challenges."
   ]
  },
  {
   "cell_type": "markdown",
   "id": "6e4850aa-fb9e-43bb-8887-2a8aa604ffaf",
   "metadata": {},
   "source": [
    "# 3\n",
    "- A Web API (Application Programming Interface) is an API that is accessed using the HTTP protocol and is typically used to expose web server functionality to client applications.\n",
    "\n",
    "- Difference between API and Web API:\n",
    "\n",
    "1.Scope: API can refer to any kind of interface that enables communication between different software systems. Whereas, Web API specifically refers to APIs that use the HTTP protocol to communicate over the internet.\n",
    "\n",
    "2.Protocol: APIs can use different protocols to communicate, such as TCP, FTP, or SMTP. Whereas, Web APIs use HTTP and are typically accessed using URLs.\n",
    "\n",
    "3.Platform Independence: APIs can be platform-specific or platform-independent, whereas Web APIs are designed to be platform-independent, and can be accessed from any programming language or platform that supports HTTP.\n",
    "\n",
    "4.Accessibility: APIs can be accessible only within a local network or to specific systems. Whereas, Web APIs are designed to be publicly accessible over the internet.\n"
   ]
  },
  {
   "cell_type": "markdown",
   "id": "853f78e2-7896-4cb5-8e83-4dc0a36e53fc",
   "metadata": {},
   "source": [
    "# 4\n",
    "* REST is a lightweight, client-server architecture that uses HTTP requests to exchange data in various formats like JSON, XML, etc. It is designed to be simple and easy to use, and allows developers to build scalable and flexible applications.\n",
    "\n",
    "* SOAP, on the other hand, is a more complex and heavy-weight architecture that uses XML-based messages to exchange data between different software systems"
   ]
  },
  {
   "cell_type": "markdown",
   "id": "f24edf24-1e08-4a90-a384-9036f9aa1fc8",
   "metadata": {},
   "source": [
    "# 5\n",
    "* Protocol: REST uses HTTP (Hypertext Transfer Protocol) to exchange data in various formats like JSON, XML, etc. SOAP, on the other hand, uses XML-based messages and can use various transport protocols like HTTP, SMTP, etc.\n",
    "\n",
    "* Message Format: REST messages are usually lightweight and use standard HTTP methods like GET, POST, PUT, DELETE to perform operations on resources. SOAP messages, on the other hand, are typically heavy-weight and use XML for message formatting.\n"
   ]
  },
  {
   "cell_type": "code",
   "execution_count": null,
   "id": "2733f7dd-0f8c-4dfd-ad42-bed911b0ed5b",
   "metadata": {},
   "outputs": [],
   "source": []
  }
 ],
 "metadata": {
  "kernelspec": {
   "display_name": "Python 3 (ipykernel)",
   "language": "python",
   "name": "python3"
  },
  "language_info": {
   "codemirror_mode": {
    "name": "ipython",
    "version": 3
   },
   "file_extension": ".py",
   "mimetype": "text/x-python",
   "name": "python",
   "nbconvert_exporter": "python",
   "pygments_lexer": "ipython3",
   "version": "3.10.8"
  }
 },
 "nbformat": 4,
 "nbformat_minor": 5
}
