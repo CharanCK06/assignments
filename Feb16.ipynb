{
 "cells": [
  {
   "cell_type": "code",
   "execution_count": null,
   "id": "fb8e2435-8a6a-4142-9a47-5b1427d73b38",
   "metadata": {},
   "outputs": [],
   "source": [
    "#1\n",
    "'''\n",
    "A database is an organized collection of data that can be stored, accessed, and managed by a computer system.\n",
    "\n",
    "SQL Database: A SQL database, also known as a relational database, is a type of database that organizes data into one or more tables with a fixed schema.\n",
    "\n",
    "NoSQL Database: A NoSQL database, also known as a non-relational database, is a type of database that does not organize data into tables with a fixed schema.\n",
    "'''"
   ]
  },
  {
   "cell_type": "code",
   "execution_count": null,
   "id": "bf79820a-26ad-41d2-b6e0-6ad4cf9fb4cc",
   "metadata": {},
   "outputs": [],
   "source": [
    "#2\n",
    "'''\n",
    "DDL - Data Definition Language\n",
    "\n",
    "CREATE - used to create new database objects\n",
    "DROP - used to delete existing database objects\n",
    "ALTER - used to modify the existing structure of database objects\n",
    "TRUNCATE - used to remove all the data from the table except structure\n",
    "\n",
    "'''"
   ]
  },
  {
   "cell_type": "code",
   "execution_count": null,
   "id": "b872c300-173f-4501-8771-c48349b93cd4",
   "metadata": {},
   "outputs": [],
   "source": [
    "#3\n",
    "'''\n",
    "DML - Data Manipulation Language\n",
    "\n",
    "INSERT - used to add new data to the table.\n",
    "UPDATE - used to modify existing data in a table.\n",
    "DELETE - used to remove data from table.\n",
    "\n",
    "\n",
    "'''"
   ]
  },
  {
   "cell_type": "code",
   "execution_count": null,
   "id": "9d852ce4-659a-4437-97ed-d10a5066b871",
   "metadata": {},
   "outputs": [],
   "source": [
    "#4\n",
    "'''\n",
    "DQL - Data Query Language\n",
    "\n",
    "SELECT - used to query the database and retrieve data based on specified criteria.\n",
    "ex:\n",
    "SELECT * FROM STUDENT.BIO\n",
    "retrieves data from table BIO in database STUDENT\n",
    "'''"
   ]
  },
  {
   "cell_type": "code",
   "execution_count": null,
   "id": "56eff3e9-64c3-44ea-8521-725133cf51e9",
   "metadata": {},
   "outputs": [],
   "source": [
    "#5\n",
    "'''\n",
    "Primary key: It is a column or group of columns used to uniquely identify each row in a table.\n",
    "Foreign key: It is a column or group of columns used to establish a relationship between two tables by referencing the primary key of one table in another table.\n",
    "'''"
   ]
  },
  {
   "cell_type": "code",
   "execution_count": null,
   "id": "9f15d664-3cff-4a60-92d7-988f86e1e865",
   "metadata": {},
   "outputs": [],
   "source": [
    "#6\n",
    "import mysql.connector\n",
    "mydb = mysql.connector.connect(\n",
    "  host=\"localhost\",\n",
    "  user=\"abc\",\n",
    "  password=\"password\"\n",
    ")\n",
    "print(mydb)\n",
    "mycursor = mydb.cursor()\n",
    "mycursor.execute(\"CREATE TABLE IF NOT EXISTS STUDENT.BIO (REG_NO INT,NAME VARCHAR(20))\")\n",
    "mycursor.execute(\"INSERT INTO STUDENT.BIO VALUES(1201,'Ramesh')\")\n",
    "mycursor.execute(\"SELECT * FROM STUDENT.BIO\")  \n",
    "for i in mycursor:\n",
    "    print(i)\n",
    "'''\n",
    "cursor() - The cursor() method is used to create a cursor object, which allows the Python program to execute SQL queries on a database.\n",
    "execute() - The execute() method takes a single argument, which is a string containing the SQL query to be executed.\n",
    "'''"
   ]
  },
  {
   "cell_type": "code",
   "execution_count": null,
   "id": "bfd5bda5-763a-4004-9008-9e27db44ca52",
   "metadata": {},
   "outputs": [],
   "source": [
    "#7\n",
    "'''\n",
    "    SELECT\n",
    "    FROM\n",
    "    JOIN\n",
    "    WHERE \n",
    "    GROUP BY\n",
    "    HAVING\n",
    "    ORDER BY\n",
    "    LIMIT\n",
    "'''"
   ]
  }
 ],
 "metadata": {
  "kernelspec": {
   "display_name": "Python 3 (ipykernel)",
   "language": "python",
   "name": "python3"
  },
  "language_info": {
   "codemirror_mode": {
    "name": "ipython",
    "version": 3
   },
   "file_extension": ".py",
   "mimetype": "text/x-python",
   "name": "python",
   "nbconvert_exporter": "python",
   "pygments_lexer": "ipython3",
   "version": "3.10.8"
  }
 },
 "nbformat": 4,
 "nbformat_minor": 5
}
