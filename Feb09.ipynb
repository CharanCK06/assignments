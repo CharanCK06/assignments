{
 "cells": [
  {
   "cell_type": "code",
   "execution_count": 13,
   "id": "57bc243a-79bf-4b30-a429-57ccaee4312a",
   "metadata": {},
   "outputs": [],
   "source": [
    "#1\n",
    "class Vehicle :\n",
    "    def __init__(self,name_of_vehicle,max_speed,average_of_vehicle):\n",
    "        self.name_of_vehicle = name_of_vehicle\n",
    "        self.max_speed = max_speed\n",
    "        self.average_of_vehicle = average_of_vehicle"
   ]
  },
  {
   "cell_type": "code",
   "execution_count": 16,
   "id": "eb609559-2408-4acb-8ef0-a536df15a21e",
   "metadata": {},
   "outputs": [],
   "source": [
    "#2\n",
    "class Car(Vehicle) :\n",
    "    def __init__(self,name_of_vehicle,max_speed,average_of_vehicle):\n",
    "        super().__init__(name_of_vehicle,max_speed,average_of_vehicle)\n",
    "    \n",
    "    def seating_capacity(self,capacity):\n",
    "        self.capacity = capacity\n",
    "        return f\"{self.name_of_vehicle} has a seating capacity of {capacity} passengers.\""
   ]
  },
  {
   "cell_type": "code",
   "execution_count": 17,
   "id": "a617d729-981e-4cbc-9949-87ad910715a7",
   "metadata": {},
   "outputs": [
    {
     "data": {
      "text/plain": [
       "'Audi has a seating capacity of 5 passengers.'"
      ]
     },
     "execution_count": 17,
     "metadata": {},
     "output_type": "execute_result"
    }
   ],
   "source": [
    "c = Car(\"Audi\",200,50.0)\n",
    "c.seating_capacity(5)"
   ]
  },
  {
   "cell_type": "code",
   "execution_count": 19,
   "id": "77c83fd5-db51-41d8-8f8e-094f0059ffe5",
   "metadata": {},
   "outputs": [
    {
     "name": "stdout",
     "output_type": "stream",
     "text": [
      "Physical strength\n",
      "Mental strength\n"
     ]
    }
   ],
   "source": [
    "#3\n",
    "\"\"\"\n",
    "In multiple Inheritance,child class is derived from more than one parent class\n",
    "\"\"\"\n",
    "#Example\n",
    "class Father:\n",
    "    def char1(self):\n",
    "        print(\"Physical strength\")\n",
    "\n",
    "class Mother:\n",
    "    def char2(self):\n",
    "        print(\"Mental strength\")\n",
    "        \n",
    "class Child(Father,Mother):\n",
    "    pass\n",
    "c = Child()\n",
    "c.char1()\n",
    "c.char2()\n"
   ]
  },
  {
   "cell_type": "code",
   "execution_count": 1,
   "id": "59d0f7ab-bd2b-4d49-b7e1-d22990501abb",
   "metadata": {},
   "outputs": [],
   "source": [
    "#4\n",
    "'''\n",
    "setter and getters are decorator that are used to modify and access privated/protected\n",
    "data members respectively\n",
    "'''\n",
    "class Demo:\n",
    "    def __init__(self,uname,password):\n",
    "        self.uname = uname\n",
    "        self.__password = password\n",
    "    \n",
    "    @property\n",
    "    def user_access(self):\n",
    "        return self.__password\n",
    "    \n",
    "    @user_access.setter\n",
    "    def set_pass(self,pswd):\n",
    "        self.__password = pswd\n",
    "            "
   ]
  },
  {
   "cell_type": "code",
   "execution_count": 4,
   "id": "12365f59-0c51-4dfd-893f-6639183f387f",
   "metadata": {},
   "outputs": [
    {
     "data": {
      "text/plain": [
       "'Charan'"
      ]
     },
     "execution_count": 4,
     "metadata": {},
     "output_type": "execute_result"
    }
   ],
   "source": [
    "d = Demo(\"Charan\",\"ck06\")\n",
    "d.uname"
   ]
  },
  {
   "cell_type": "code",
   "execution_count": 5,
   "id": "10362b60-1c04-493b-8422-7d4804c6e87f",
   "metadata": {},
   "outputs": [
    {
     "ename": "AttributeError",
     "evalue": "'Demo' object has no attribute '__password'",
     "output_type": "error",
     "traceback": [
      "\u001b[0;31m---------------------------------------------------------------------------\u001b[0m",
      "\u001b[0;31mAttributeError\u001b[0m                            Traceback (most recent call last)",
      "Cell \u001b[0;32mIn[5], line 1\u001b[0m\n\u001b[0;32m----> 1\u001b[0m \u001b[43md\u001b[49m\u001b[38;5;241;43m.\u001b[39;49m\u001b[43m__password\u001b[49m\n",
      "\u001b[0;31mAttributeError\u001b[0m: 'Demo' object has no attribute '__password'"
     ]
    }
   ],
   "source": [
    "d.__password"
   ]
  },
  {
   "cell_type": "code",
   "execution_count": 7,
   "id": "1e7cbece-b1a1-4e73-bfb8-61efc6db9184",
   "metadata": {},
   "outputs": [
    {
     "data": {
      "text/plain": [
       "'ck06'"
      ]
     },
     "execution_count": 7,
     "metadata": {},
     "output_type": "execute_result"
    }
   ],
   "source": [
    "#get password\n",
    "d.user_access"
   ]
  },
  {
   "cell_type": "code",
   "execution_count": 9,
   "id": "13dfc7b7-6bf4-4a06-a186-3b3948e5c07b",
   "metadata": {},
   "outputs": [],
   "source": [
    "#set password\n",
    "d.set_pass = \"ck09\""
   ]
  },
  {
   "cell_type": "code",
   "execution_count": 11,
   "id": "51789ee8-d862-47b0-9434-e0d9df574b13",
   "metadata": {},
   "outputs": [
    {
     "data": {
      "text/plain": [
       "'ck09'"
      ]
     },
     "execution_count": 11,
     "metadata": {},
     "output_type": "execute_result"
    }
   ],
   "source": [
    "d.user_access"
   ]
  },
  {
   "cell_type": "code",
   "execution_count": 12,
   "id": "d3037851-19c9-4c02-ae09-f1670ea9f752",
   "metadata": {},
   "outputs": [
    {
     "name": "stdout",
     "output_type": "stream",
     "text": [
      "learning strength\n",
      "Mental strength\n"
     ]
    }
   ],
   "source": [
    "#5\n",
    "'''\n",
    "Method overriding allows subclass to implement a method which is \n",
    "already provided by super class\n",
    "'''\n",
    "#Example\n",
    "class Father:\n",
    "    def char1(self):\n",
    "        print(\"Physical strength\")\n",
    "\n",
    "class Mother:\n",
    "    def char2(self):\n",
    "        print(\"Mental strength\")\n",
    "        \n",
    "class Child(Father,Mother):\n",
    "    def char1(self):\n",
    "        print(\"learning strength\")\n",
    "c = Child()\n",
    "c.char1()\n",
    "c.char2()"
   ]
  },
  {
   "cell_type": "code",
   "execution_count": null,
   "id": "4d60331e-6d70-4306-8aa3-fb068c1f4491",
   "metadata": {},
   "outputs": [],
   "source": []
  }
 ],
 "metadata": {
  "kernelspec": {
   "display_name": "Python 3 (ipykernel)",
   "language": "python",
   "name": "python3"
  },
  "language_info": {
   "codemirror_mode": {
    "name": "ipython",
    "version": 3
   },
   "file_extension": ".py",
   "mimetype": "text/x-python",
   "name": "python",
   "nbconvert_exporter": "python",
   "pygments_lexer": "ipython3",
   "version": "3.10.8"
  }
 },
 "nbformat": 4,
 "nbformat_minor": 5
}
