{
 "cells": [
  {
   "cell_type": "code",
   "execution_count": 1,
   "metadata": {
    "colab": {
     "base_uri": "https://localhost:8080/"
    },
    "id": "by_-D9n-u37u",
    "outputId": "738d29ae-5a31-4cd0-b64b-cc65ecf23f9e"
   },
   "outputs": [
    {
     "name": "stdin",
     "output_type": "stream",
     "text": [
      "Enter the percentage: 85\n"
     ]
    },
    {
     "name": "stdout",
     "output_type": "stream",
     "text": [
      "Grade : B\n"
     ]
    }
   ],
   "source": [
    "#1\n",
    "percent = int(input(\"Enter the percentage:\"))\n",
    "if percent>90:\n",
    "  print(\"Grade : A\")\n",
    "elif percent>80 and percent<=90:\n",
    "  print(\"Grade : B\")\n",
    "elif percent>60 and percent<=80:\n",
    "  print(\"Grade : C\")\n",
    "else:\n",
    "  print(\"Grade : D\")"
   ]
  },
  {
   "cell_type": "code",
   "execution_count": 2,
   "metadata": {
    "colab": {
     "base_uri": "https://localhost:8080/"
    },
    "id": "2Zt2h1P3v6Cn",
    "outputId": "16ff4954-5464-4eea-a188-48238407c8d7"
   },
   "outputs": [
    {
     "name": "stdin",
     "output_type": "stream",
     "text": [
      "Enter the Costprice of the Bike: 110000\n"
     ]
    },
    {
     "name": "stdout",
     "output_type": "stream",
     "text": [
      "RoadTax to be paid: 16500.0\n"
     ]
    }
   ],
   "source": [
    "#2\n",
    "cp = int(input(\"Enter the Costprice of the Bike:\"))\n",
    "if cp>100000:\n",
    "  print(\"RoadTax to be paid:\",0.15*cp)\n",
    "elif cp>50000 and cp<=100000:\n",
    "  print(\"RoadTax to be paid:\",0.1*cp)\n",
    "else:\n",
    "  print(\"RoadTax to be paid:\",0.05*cp)"
   ]
  },
  {
   "cell_type": "code",
   "execution_count": 3,
   "metadata": {
    "colab": {
     "base_uri": "https://localhost:8080/"
    },
    "id": "5Bm_IKqGxAiU",
    "outputId": "a732f898-c048-445c-af38-864d53aaee6e"
   },
   "outputs": [
    {
     "name": "stdin",
     "output_type": "stream",
     "text": [
      "Enter any city: Delhi\n"
     ]
    },
    {
     "name": "stdout",
     "output_type": "stream",
     "text": [
      "Monument : RedFort\n"
     ]
    }
   ],
   "source": [
    "#3\n",
    "city = input(\"Enter any city:\")\n",
    "if city == \"Delhi\":\n",
    "  print(\"Monument : RedFort\")\n",
    "if city == \"Agra\":\n",
    "  print(\"Monument : TajMahal\")\n",
    "if city == \"Jaipur\":\n",
    "  print(\"Monument : JalMahal\")"
   ]
  },
  {
   "cell_type": "code",
   "execution_count": 5,
   "metadata": {
    "id": "XXrgabNhxxQk"
   },
   "outputs": [
    {
     "name": "stdin",
     "output_type": "stream",
     "text": [
      "Enter any number: 81\n"
     ]
    },
    {
     "name": "stdout",
     "output_type": "stream",
     "text": [
      "2\n"
     ]
    }
   ],
   "source": [
    "#4\n",
    "a = int(input(\"Enter any number:\"))\n",
    "count = 0\n",
    "while a > 10:\n",
    "    a = a / 3\n",
    "    count += 1\n",
    "print(count)"
   ]
  },
  {
   "cell_type": "code",
   "execution_count": 6,
   "metadata": {
    "colab": {
     "base_uri": "https://localhost:8080/"
    },
    "id": "smy0uGsY1An4",
    "outputId": "a473fc9c-e62b-40aa-a2ce-1f95c8dc60d7"
   },
   "outputs": [
    {
     "name": "stdout",
     "output_type": "stream",
     "text": [
      "Displaying numbers less than 10\n",
      "10\n",
      "9\n",
      "8\n",
      "7\n",
      "6\n",
      "5\n",
      "4\n",
      "3\n",
      "2\n",
      "1\n"
     ]
    }
   ],
   "source": [
    "#5\n",
    "'''A \"While\" Loop is used to repeat a specific block of code\n",
    " an unknown number of times, until a condition is met.'''\n",
    "i = 10\n",
    "print(\"Displaying numbers less than 10\")\n",
    "while(i>0):\n",
    "  print(i)\n",
    "  i -= 1\n"
   ]
  },
  {
   "cell_type": "code",
   "execution_count": 7,
   "metadata": {
    "colab": {
     "base_uri": "https://localhost:8080/"
    },
    "id": "bG55lJSS2jzu",
    "outputId": "52471d7d-574b-4158-d7d8-a41a63eb0b36"
   },
   "outputs": [
    {
     "name": "stdout",
     "output_type": "stream",
     "text": [
      "Pattern:1\n",
      "* \n",
      "\n",
      "* * \n",
      "\n",
      "* * * \n",
      "\n",
      "* * * * \n",
      "\n",
      "Pattern:2\n",
      "* * * * \n",
      "\n",
      "* * * \n",
      "\n",
      "* * \n",
      "\n",
      "* \n",
      "\n",
      "Pattern:3\n",
      "1 \n",
      "\n",
      "2 2 \n",
      "\n",
      "3 3 3 \n",
      "\n",
      "4 4 4 4 \n",
      "\n"
     ]
    }
   ],
   "source": [
    "#6\n",
    "print(\"Pattern:1\")\n",
    "i=1\n",
    "while i<5:\n",
    "  j=1\n",
    "  while j<=i:\n",
    "    print(\"*\",end=\" \")\n",
    "    j+=1\n",
    "  print(\"\\n\")\n",
    "  i += 1\n",
    "\n",
    "print(\"Pattern:2\")\n",
    "i=1\n",
    "while i<5:\n",
    "  j=4\n",
    "  while j>=i:\n",
    "    print(\"*\",end=\" \")\n",
    "    j-=1\n",
    "  print(\"\\n\")\n",
    "  i += 1\n",
    "\n",
    "print(\"Pattern:3\")\n",
    "i=1\n",
    "while i<5:\n",
    "  j=1\n",
    "  while j<=i:\n",
    "    print(i,end=\" \")\n",
    "    j+=1\n",
    "  print(\"\\n\")\n",
    "  i += 1\n"
   ]
  },
  {
   "cell_type": "code",
   "execution_count": 8,
   "metadata": {
    "colab": {
     "base_uri": "https://localhost:8080/"
    },
    "id": "dWPN-isF5B4y",
    "outputId": "b4f6c0ed-09fe-468d-97ee-bbc767c01fc1"
   },
   "outputs": [
    {
     "name": "stdout",
     "output_type": "stream",
     "text": [
      "10\n",
      "9\n",
      "8\n",
      "7\n",
      "6\n",
      "5\n",
      "4\n",
      "3\n",
      "2\n",
      "1\n"
     ]
    }
   ],
   "source": [
    "#7\n",
    "#8\n",
    "i=10\n",
    "while(i>0):\n",
    "  print(i)\n",
    "  i -= 1"
   ]
  },
  {
   "cell_type": "code",
   "execution_count": null,
   "metadata": {},
   "outputs": [],
   "source": []
  }
 ],
 "metadata": {
  "colab": {
   "provenance": []
  },
  "kernelspec": {
   "display_name": "Python 3 (ipykernel)",
   "language": "python",
   "name": "python3"
  },
  "language_info": {
   "codemirror_mode": {
    "name": "ipython",
    "version": 3
   },
   "file_extension": ".py",
   "mimetype": "text/x-python",
   "name": "python",
   "nbconvert_exporter": "python",
   "pygments_lexer": "ipython3",
   "version": "3.10.8"
  }
 },
 "nbformat": 4,
 "nbformat_minor": 4
}
