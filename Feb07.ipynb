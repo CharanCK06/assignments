{
 "cells": [
  {
   "cell_type": "code",
   "execution_count": 7,
   "id": "079048c1-eb0f-4c0c-be70-da0ed7bcc5de",
   "metadata": {},
   "outputs": [
    {
     "name": "stdin",
     "output_type": "stream",
     "text": [
      "Enter Password:  CH@r@n$9396\n"
     ]
    },
    {
     "data": {
      "text/plain": [
       "'Valid Password'"
      ]
     },
     "execution_count": 7,
     "metadata": {},
     "output_type": "execute_result"
    }
   ],
   "source": [
    "#1\n",
    "def check(pwd):\n",
    "    num = 0\n",
    "    al_upper = 0\n",
    "    al_lower = 0\n",
    "    spcl = 0\n",
    "    for i in pwd:\n",
    "        if i.isnumeric():\n",
    "            num+=1\n",
    "        elif i.isalpha():\n",
    "            if i.isupper():\n",
    "                al_upper += 1\n",
    "            else:\n",
    "                al_lower += 1\n",
    "        else:\n",
    "            spcl += 1\n",
    "    if (len(pwd)>=10 and (num>=1 and spcl>=3) and (al_lower >= 2 and al_upper >= 2)):\n",
    "        return \"Valid Password\"\n",
    "    else:\n",
    "        return \"Invalid Password\"\n",
    "pwd = input(\"Enter Password: \")\n",
    "check(pwd)"
   ]
  },
  {
   "cell_type": "code",
   "execution_count": 9,
   "id": "b6b019d7-9716-4739-979a-621d87ba7db1",
   "metadata": {},
   "outputs": [
    {
     "name": "stdout",
     "output_type": "stream",
     "text": [
      "True\n"
     ]
    }
   ],
   "source": [
    "#2\n",
    "\n",
    "#2.1\n",
    "s = \"Charan\"\n",
    "check = lambda s,x: s[0]==x\n",
    "print(check(s,'C'))"
   ]
  },
  {
   "cell_type": "code",
   "execution_count": 11,
   "id": "bda5f44b-a074-4b9e-a87b-6d254f74cdb8",
   "metadata": {},
   "outputs": [
    {
     "name": "stdout",
     "output_type": "stream",
     "text": [
      "False\n"
     ]
    }
   ],
   "source": [
    "#2.2\n",
    "n = \"12c\"\n",
    "is_num = lambda n: n.isnumeric()\n",
    "print(is_num(n))"
   ]
  },
  {
   "cell_type": "code",
   "execution_count": 28,
   "id": "3ab78964-f06a-4c7f-8308-8c658e0d4c6a",
   "metadata": {},
   "outputs": [
    {
     "data": {
      "text/plain": [
       "[('orange', 80), ('mango', 99), ('grapes', 1000)]"
      ]
     },
     "execution_count": 28,
     "metadata": {},
     "output_type": "execute_result"
    }
   ],
   "source": [
    "#2.3\n",
    "lt = [(\"mango\",99),(\"orange\",80), (\"grapes\", 1000)]\n",
    "lt = sorted(lt,key = lambda x: x[1])\n",
    "lt"
   ]
  },
  {
   "cell_type": "code",
   "execution_count": 14,
   "id": "e54f4ed2-8836-43c9-a591-7c1e6d1f4606",
   "metadata": {},
   "outputs": [
    {
     "name": "stdout",
     "output_type": "stream",
     "text": [
      "[0, 1, 4, 9, 16, 25, 36, 49, 64, 81, 100]\n"
     ]
    }
   ],
   "source": [
    "#2.4\n",
    "l = list(map(lambda x:x**2,range(11)))\n",
    "print(l)"
   ]
  },
  {
   "cell_type": "code",
   "execution_count": 16,
   "id": "279f12db-c953-49f8-8c0c-631c586c5953",
   "metadata": {},
   "outputs": [
    {
     "name": "stdout",
     "output_type": "stream",
     "text": [
      "[0.0, 1.0, 1.2599210498948732, 1.4422495703074083, 1.5874010519681994, 1.7099759466766968, 1.8171205928321397, 1.912931182772389, 2.0, 2.080083823051904, 2.154434690031884]\n"
     ]
    }
   ],
   "source": [
    "#2.5\n",
    "l1 = list(map(lambda x:x**(1/3),range(11)))\n",
    "print(l1)"
   ]
  },
  {
   "cell_type": "code",
   "execution_count": 19,
   "id": "eff2f4d6-d4a0-47cf-8c93-ba53acb2c150",
   "metadata": {},
   "outputs": [
    {
     "name": "stdin",
     "output_type": "stream",
     "text": [
      "Enter any number: 3\n"
     ]
    },
    {
     "name": "stdout",
     "output_type": "stream",
     "text": [
      "False\n"
     ]
    }
   ],
   "source": [
    "#2.6\n",
    "n1 = int(input(\"Enter any number:\"))\n",
    "is_eve = lambda x: x%2==0\n",
    "print(is_eve(n1))"
   ]
  },
  {
   "cell_type": "code",
   "execution_count": 21,
   "id": "7081d40b-bfad-4ae1-83e5-23e652af3aee",
   "metadata": {},
   "outputs": [
    {
     "name": "stdout",
     "output_type": "stream",
     "text": [
      "[1, 3, 5, 7, 9]\n"
     ]
    }
   ],
   "source": [
    "#2.7\n",
    "l2 = [1,2,3,4,5,6,7,8,9,10]\n",
    "oddfil = list(filter(lambda x: x%2!=0 , l2))\n",
    "print(oddfil)"
   ]
  },
  {
   "cell_type": "code",
   "execution_count": 22,
   "id": "c204731d-b777-4608-9b30-2df78637cca3",
   "metadata": {},
   "outputs": [
    {
     "name": "stdout",
     "output_type": "stream",
     "text": [
      "Positive List: [0, 1, 2, 3, 4, 5, 6]\n",
      "Negative List: [-5, -4, -3, -2, -1]\n"
     ]
    }
   ],
   "source": [
    "l3 = [1,2,3,4,5,6,-1,-2,-3,-4,-5,0]\n",
    "sort_pos = list(filter(lambda x: x>=0 , l3))\n",
    "sort_pos.sort()\n",
    "sort_neg = list(filter(lambda x: x<0 , l3))\n",
    "sort_neg.sort()\n",
    "print(\"Positive List:\",sort_pos)\n",
    "print(\"Negative List:\",sort_neg)"
   ]
  },
  {
   "cell_type": "code",
   "execution_count": null,
   "id": "43dec975-4541-434b-9723-cb5dd5a2ae6b",
   "metadata": {},
   "outputs": [],
   "source": []
  }
 ],
 "metadata": {
  "kernelspec": {
   "display_name": "Python 3 (ipykernel)",
   "language": "python",
   "name": "python3"
  },
  "language_info": {
   "codemirror_mode": {
    "name": "ipython",
    "version": 3
   },
   "file_extension": ".py",
   "mimetype": "text/x-python",
   "name": "python",
   "nbconvert_exporter": "python",
   "pygments_lexer": "ipython3",
   "version": "3.10.8"
  }
 },
 "nbformat": 4,
 "nbformat_minor": 5
}
