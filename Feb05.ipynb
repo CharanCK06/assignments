{
 "cells": [
  {
   "cell_type": "code",
   "execution_count": 9,
   "id": "736e69ea-1617-447b-a8c7-4ccf3ca9256e",
   "metadata": {},
   "outputs": [
    {
     "name": "stdout",
     "output_type": "stream",
     "text": [
      "Welcome to DataScience Masters class\n"
     ]
    }
   ],
   "source": [
    "#1\n",
    "'''\n",
    "Class: it is a user-defined blueprint from which objects are created.\n",
    "Object:It is instance of a class\n",
    "'''\n",
    "class Welcome:\n",
    "    def msg(self):\n",
    "        print(\"Welcome to DataScience Masters class\")\n",
    "ck = Welcome()\n",
    "ck.msg()"
   ]
  },
  {
   "cell_type": "code",
   "execution_count": 10,
   "id": "23254f69-96f1-44ce-9f4a-be653ad53be2",
   "metadata": {},
   "outputs": [
    {
     "data": {
      "text/plain": [
       "'\\nFour pillars of OOps:\\n- Abstraction\\n- Encapsulation\\n- Inheritance\\n- Polymorphism\\n'"
      ]
     },
     "execution_count": 10,
     "metadata": {},
     "output_type": "execute_result"
    }
   ],
   "source": [
    "#2\n",
    "'''\n",
    "Four pillars of OOps:\n",
    "- Abstraction\n",
    "- Encapsulation\n",
    "- Inheritance\n",
    "- Polymorphism\n",
    "'''"
   ]
  },
  {
   "cell_type": "code",
   "execution_count": null,
   "id": "75671928-d977-4f37-81c9-43300d584788",
   "metadata": {},
   "outputs": [],
   "source": [
    "#3\n",
    "'''\n",
    "__init__() is used to assign values to the data members of the class\n",
    "when an object is created.\n",
    "It is a constructor.\n",
    "'''"
   ]
  },
  {
   "cell_type": "code",
   "execution_count": null,
   "id": "1bf9ef56-531e-478d-b2bb-f31bb88e6f6a",
   "metadata": {},
   "outputs": [],
   "source": [
    "#4\n",
    "''' self is a reference pointer which is used to access variables that\n",
    "    belongs to the class\n",
    "'''"
   ]
  }
 ],
 "metadata": {
  "kernelspec": {
   "display_name": "Python 3 (ipykernel)",
   "language": "python",
   "name": "python3"
  },
  "language_info": {
   "codemirror_mode": {
    "name": "ipython",
    "version": 3
   },
   "file_extension": ".py",
   "mimetype": "text/x-python",
   "name": "python",
   "nbconvert_exporter": "python",
   "pygments_lexer": "ipython3",
   "version": "3.10.8"
  }
 },
 "nbformat": 4,
 "nbformat_minor": 5
}
