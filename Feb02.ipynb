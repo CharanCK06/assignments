{
 "cells": [
  {
   "cell_type": "code",
   "execution_count": 6,
   "id": "393a1dd6-7354-498b-accd-fda2eca9e65f",
   "metadata": {},
   "outputs": [
    {
     "data": {
      "text/plain": [
       "' \\nTuple items are ordered, unchangeable, and allow duplicate values.\\nTuples are immutable.\\n'"
      ]
     },
     "execution_count": 6,
     "metadata": {},
     "output_type": "execute_result"
    }
   ],
   "source": [
    "#1\n",
    "''' \n",
    "Tuple items are ordered, unchangeable, and allow duplicate values.\n",
    "Tuples are immutable.\n",
    "'''\n"
   ]
  },
  {
   "cell_type": "code",
   "execution_count": 7,
   "id": "beb60a74-ac55-40ec-926f-25b56d2922c1",
   "metadata": {},
   "outputs": [
    {
     "name": "stdout",
     "output_type": "stream",
     "text": [
      "1\n",
      "0\n"
     ]
    }
   ],
   "source": [
    "#2\n",
    "'''\n",
    "count(),index() are two tuple methods.\n",
    "\n",
    "Tuples have only two methods because they are immutable.\n",
    "'''\n",
    "t = (1,2,3,4,5)\n",
    "print(t.count(2))\n",
    "print(t.index(1))"
   ]
  },
  {
   "cell_type": "code",
   "execution_count": 8,
   "id": "cb38f18b-2d7e-4e54-9d6b-cae282819872",
   "metadata": {},
   "outputs": [
    {
     "name": "stdout",
     "output_type": "stream",
     "text": [
      "{1, 2, 3, 4}\n"
     ]
    }
   ],
   "source": [
    "#3\n",
    "'''sets\n",
    "'''\n",
    "l = [1,1,1,2,1,3,1,4,2,1,2,2,2,3,2,4,3,1,3,2,3,3,3,4,4,1,4,2,4,3,4,4]\n",
    "s = set(l)\n",
    "print(s)"
   ]
  },
  {
   "cell_type": "code",
   "execution_count": 9,
   "id": "6b0e213a-4cc3-4c2d-9d0a-0b79245e9446",
   "metadata": {},
   "outputs": [
    {
     "name": "stdout",
     "output_type": "stream",
     "text": [
      "{1, 2, 3, 4, 5, 6}\n",
      "{1, 2, 3, 4, 5, 6}\n"
     ]
    }
   ],
   "source": [
    "#4\n",
    "#union() is returns set that contain elements of both sets.\n",
    "s1 = {1,2,3}\n",
    "s2 = {4,5,6}\n",
    "print(s1.union(s2))\n",
    "#update()combines two sets into one set\n",
    "s1.update(s2)\n",
    "print(s1)"
   ]
  },
  {
   "cell_type": "code",
   "execution_count": 10,
   "id": "8c6d5690-3e08-4e4c-a571-a08dc2c9a8db",
   "metadata": {},
   "outputs": [
    {
     "name": "stdout",
     "output_type": "stream",
     "text": [
      "{1: 'one', 2: 'two', 3: 'three'}\n"
     ]
    }
   ],
   "source": [
    "#5\n",
    "'''\n",
    "dictionary is a collection of key-value pairs which are ordered and mutable.\n",
    "'''\n",
    "dictionary = {1:\"one\",2:\"two\",3:\"three\"}\n",
    "print(dictionary)"
   ]
  },
  {
   "cell_type": "code",
   "execution_count": 5,
   "id": "63cdabed-3ed4-4222-8da4-a014054709fd",
   "metadata": {},
   "outputs": [
    {
     "data": {
      "text/plain": [
       "{1: {'a': 'A', 'b': 'B', 'c': 'C'}, 2: {'d': 'D', 'e': 'E', 'f': 'F'}}"
      ]
     },
     "execution_count": 5,
     "metadata": {},
     "output_type": "execute_result"
    }
   ],
   "source": [
    "#6\n",
    "'''a nested dictionary is a dictionary inside a dictionary. It's a collection of dictionaries into one single dictionary.'''\n",
    "dict1 = {1:{'a':'A','b':'B','c':'C'},\n",
    "         2:{'d':'D','e':'E','f':'F'}}\n",
    "dict1"
   ]
  },
  {
   "cell_type": "code",
   "execution_count": 11,
   "id": "98954c84-52bd-4a00-ac83-4ed0c15dad24",
   "metadata": {},
   "outputs": [
    {
     "name": "stdout",
     "output_type": "stream",
     "text": [
      "{'language': 'Python', 'course': 'Data Science Masters', 'topics': ['Python', 'Machine Learning', 'Deep Learning']}\n"
     ]
    }
   ],
   "source": [
    "#7\n",
    "dict1 = {'language' : 'Python', 'course': 'Data Science Masters'}\n",
    "dict1.setdefault('topics', ['Python', 'Machine Learning', 'Deep Learning'])\n",
    "print(dict1)\n"
   ]
  },
  {
   "cell_type": "code",
   "execution_count": 12,
   "id": "865b9489-139d-48e3-a98d-f5fb38f9aca3",
   "metadata": {},
   "outputs": [
    {
     "name": "stdout",
     "output_type": "stream",
     "text": [
      "Keys:\t dict_keys(['Sport', 'Teams'])\n",
      "Values:\t dict_values(['Cricket', ['India', 'Australia', 'England', 'South Africa', 'Sri Lanka', 'New Zealand']])\n",
      "Items\t:  dict_items([('Sport', 'Cricket'), ('Teams', ['India', 'Australia', 'England', 'South Africa', 'Sri Lanka', 'New Zealand'])])\n"
     ]
    }
   ],
   "source": [
    "#8\n",
    "dict1 = {'Sport': 'Cricket' , 'Teams': ['India', 'Australia', 'England', 'South Africa', 'Sri Lanka', 'New Zealand']}\n",
    "print(\"Keys:\\t\",dict1.keys())\n",
    "print(\"Values:\\t\",dict1.values())\n",
    "print(\"Items\\t: \",dict1.items())\n"
   ]
  },
  {
   "cell_type": "code",
   "execution_count": null,
   "id": "646ecc89-44dc-4c30-a0a2-f2161eec02a6",
   "metadata": {},
   "outputs": [],
   "source": []
  }
 ],
 "metadata": {
  "kernelspec": {
   "display_name": "Python 3 (ipykernel)",
   "language": "python",
   "name": "python3"
  },
  "language_info": {
   "codemirror_mode": {
    "name": "ipython",
    "version": 3
   },
   "file_extension": ".py",
   "mimetype": "text/x-python",
   "name": "python",
   "nbconvert_exporter": "python",
   "pygments_lexer": "ipython3",
   "version": "3.10.8"
  }
 },
 "nbformat": 4,
 "nbformat_minor": 5
}
